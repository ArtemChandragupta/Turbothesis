{
 "cells": [
  {
   "cell_type": "markdown",
   "id": "dd0ac651-0d7b-41d9-ba09-9c6277fffe83",
   "metadata": {},
   "source": [
    "# Переменные"
   ]
  },
  {
   "cell_type": "code",
   "execution_count": 46,
   "id": "577df6f8-6312-4dab-ba5a-713a837ebfa6",
   "metadata": {},
   "outputs": [],
   "source": [
    "N     = 65      # Полезная мощность\n",
    "T3   = 1643.15 # Температура газа перед турбиной\n",
    "PN   = 0.1013  # Давление наружного воздуха\n",
    "TN   = 288     # Температура наружного воздуха\n",
    "Pik  = 18      # Целевая степени повышения давления\n",
    "RN   = 0.287   # Газовая постоянная воздуха\n",
    "CPN = 1.03     # Удельная изобарная теплоёмкость воздуха\n",
    "\n",
    "Kg   = 1.33  # Показатель изоэнтропы газа\n",
    "Rg   = 0.287 # \n",
    "CPg = 1.16  # Удельная изобарная теплоёмкость газа\n",
    "\n",
    "SigEN   = 0.987 # Коэффициент потерь на входном устройстве\n",
    "EtaKAD = 0.91  # Политропный КПД компрессора\n",
    "SigBU   = 0.96  # Коэффициент потерь в камере сгорания\n",
    "SigOUT  = 0.985 # Коэффициент потерь давления в выходном устройстве\n",
    "EtaTpol= 0.87  # политропный КПД турбины\n",
    "Etamt   = 0.995 #\n",
    "Etamk   = 0.995 #\n",
    "Etaks   = 0.98  # "
   ]
  },
  {
   "cell_type": "code",
   "execution_count": 47,
   "id": "b2009ac7-ea5a-44d2-909c-34fd146683bf",
   "metadata": {},
   "outputs": [
    {
     "data": {
      "text/plain": [
       "1.386271870794078"
      ]
     },
     "execution_count": 47,
     "metadata": {},
     "output_type": "execute_result"
    }
   ],
   "source": [
    "KN = CPN / (CPN - RN )\n",
    "KN"
   ]
  },
  {
   "cell_type": "markdown",
   "id": "2f6837fe-241e-4c4d-9036-cd58a20a130f",
   "metadata": {},
   "source": [
    "# Вычисления"
   ]
  },
  {
   "cell_type": "code",
   "execution_count": 48,
   "id": "9636ed9d-ab9e-47f5-93cd-adeb403e5ae3",
   "metadata": {},
   "outputs": [
    {
     "data": {
      "text/plain": [
       "0.0999831"
      ]
     },
     "execution_count": 48,
     "metadata": {},
     "output_type": "execute_result"
    }
   ],
   "source": [
    "# 1\n",
    "P1 = Sig_EN * PN\n",
    "P1"
   ]
  },
  {
   "cell_type": "code",
   "execution_count": 49,
   "id": "da202d09-aa44-4e1a-b6a8-60ef9cc9103f",
   "metadata": {},
   "outputs": [
    {
     "data": {
      "text/plain": [
       "288"
      ]
     },
     "execution_count": 49,
     "metadata": {},
     "output_type": "execute_result"
    }
   ],
   "source": [
    "# 2\n",
    "T1 = TN\n",
    "T1"
   ]
  },
  {
   "cell_type": "code",
   "execution_count": 50,
   "id": "ae563db7-1744-4aa3-a028-b47a458ab0d0",
   "metadata": {},
   "outputs": [
    {
     "data": {
      "text/plain": [
       "1.7996958"
      ]
     },
     "execution_count": 50,
     "metadata": {},
     "output_type": "execute_result"
    }
   ],
   "source": [
    "# 3\n",
    "P2 = Pi_k * P1\n",
    "P2"
   ]
  },
  {
   "cell_type": "code",
   "execution_count": 51,
   "id": "b9047ed9-cad3-47ea-9ec3-264f94b4858d",
   "metadata": {},
   "outputs": [
    {
     "data": {
      "text/plain": [
       "644.4104782884015"
      ]
     },
     "execution_count": 51,
     "metadata": {},
     "output_type": "execute_result"
    }
   ],
   "source": [
    "# 4\n",
    "T2 = TN * (Pik ** ((KN - 1) / KN))\n",
    "T2"
   ]
  },
  {
   "cell_type": "code",
   "execution_count": 52,
   "id": "8bbc12b8-ec2a-4af2-a85d-f5491e084a86",
   "metadata": {},
   "outputs": [
    {
     "data": {
      "text/plain": [
       "367.10279263705354"
      ]
     },
     "execution_count": 52,
     "metadata": {},
     "output_type": "execute_result"
    }
   ],
   "source": [
    "# 5\n",
    "Hok = CPN * T1 * (Pik ** ((KN - 1) / KN)-1)\n",
    "Hok"
   ]
  },
  {
   "cell_type": "code",
   "execution_count": 53,
   "id": "f471db7f-a70e-40bf-88e0-43a4d670a218",
   "metadata": {},
   "outputs": [
    {
     "data": {
      "text/plain": [
       "403.40966223852035"
      ]
     },
     "execution_count": 53,
     "metadata": {},
     "output_type": "execute_result"
    }
   ],
   "source": [
    "# 6\n",
    "Hk = Hok / EtaKAD\n",
    "Hk"
   ]
  },
  {
   "cell_type": "code",
   "execution_count": 54,
   "id": "d615b39e-6cc0-44e0-bdc1-1359e1d8e0d4",
   "metadata": {},
   "outputs": [
    {
     "data": {
      "text/plain": [
       "1.727707968"
      ]
     },
     "execution_count": 54,
     "metadata": {},
     "output_type": "execute_result"
    }
   ],
   "source": [
    "# 7\n",
    "P3 = P2 * SigBU\n",
    "P3"
   ]
  },
  {
   "cell_type": "code",
   "execution_count": 55,
   "id": "90af40fa-bfdf-4df6-842e-89efec2a5659",
   "metadata": {},
   "outputs": [
    {
     "data": {
      "text/plain": [
       "0.10284263959390863"
      ]
     },
     "execution_count": 55,
     "metadata": {},
     "output_type": "execute_result"
    }
   ],
   "source": [
    "# 8\n",
    "P4 = PN / SigOUT\n",
    "P4"
   ]
  },
  {
   "cell_type": "code",
   "execution_count": 56,
   "id": "4cf7954a-c414-4526-802e-b37926b44d5f",
   "metadata": {},
   "outputs": [
    {
     "data": {
      "text/plain": [
       "16.7995296"
      ]
     },
     "execution_count": 56,
     "metadata": {},
     "output_type": "execute_result"
    }
   ],
   "source": [
    "# 9\n",
    "PiT = P3 / P4\n",
    "PiT"
   ]
  },
  {
   "cell_type": "code",
   "execution_count": 57,
   "id": "9adf49c6-aba3-4e74-bbe7-8125a6a602b0",
   "metadata": {},
   "outputs": [
    {
     "data": {
      "text/plain": [
       "959.568183780463"
      ]
     },
     "execution_count": 57,
     "metadata": {},
     "output_type": "execute_result"
    }
   ],
   "source": [
    "# 10\n",
    "Hot = CPg * T3 * (1 - PiT ** ((-Kg + 1) / Kg ))\n",
    "Hot"
   ]
  },
  {
   "cell_type": "code",
   "execution_count": 58,
   "id": "8eedb65b-5b6e-4170-8c24-5355b8957c09",
   "metadata": {},
   "outputs": [
    {
     "data": {
      "text/plain": [
       "834.8243198890028"
      ]
     },
     "execution_count": 58,
     "metadata": {},
     "output_type": "execute_result"
    }
   ],
   "source": [
    "# 11\n",
    "Ht = Hot * EtaTpol\n",
    "Ht"
   ]
  },
  {
   "cell_type": "code",
   "execution_count": 59,
   "id": "e50782a5-f1b8-436e-afbd-4752d651007e",
   "metadata": {},
   "outputs": [
    {
     "data": {
      "text/plain": [
       "815.9360484651181"
      ]
     },
     "execution_count": 59,
     "metadata": {},
     "output_type": "execute_result"
    }
   ],
   "source": [
    "# 12\n",
    "T4 = T3 * Pi_T ** (-(Kg-1) / Kg)\n",
    "T4"
   ]
  },
  {
   "cell_type": "code",
   "execution_count": 60,
   "id": "695260db-aa7b-44f1-a2c1-888b3096bdf3",
   "metadata": {},
   "outputs": [
    {
     "data": {
      "text/plain": [
       "152.8644378686324"
      ]
     },
     "execution_count": 60,
     "metadata": {},
     "output_type": "execute_result"
    }
   ],
   "source": [
    "# 13\n",
    "GN = N * 1000 / (Ht * Etamt - Hk / Etamk)\n",
    "GN"
   ]
  },
  {
   "cell_type": "code",
   "execution_count": 61,
   "id": "13541634-d0dd-4157-8a4c-c671582d2d19",
   "metadata": {},
   "outputs": [
    {
     "data": {
      "text/plain": [
       "1158.5378451854542"
      ]
     },
     "execution_count": 61,
     "metadata": {},
     "output_type": "execute_result"
    }
   ],
   "source": [
    "# 14\n",
    "Q11 = CPg * (T3 - T2)\n",
    "Q11"
   ]
  },
  {
   "cell_type": "code",
   "execution_count": 62,
   "id": "158b15e8-0210-4d97-9eb6-947cddd68631",
   "metadata": {},
   "outputs": [
    {
     "data": {
      "text/plain": [
       "1182.1814746790349"
      ]
     },
     "execution_count": 62,
     "metadata": {},
     "output_type": "execute_result"
    }
   ],
   "source": [
    "# 15\n",
    "Q1 = Q11 / Etaks\n",
    "Q1"
   ]
  },
  {
   "cell_type": "code",
   "execution_count": 63,
   "id": "9b4d35fb-3c05-49d4-a844-3d18fe682120",
   "metadata": {},
   "outputs": [
    {
     "data": {
      "text/plain": [
       "0.3631063365112996"
      ]
     },
     "execution_count": 63,
     "metadata": {},
     "output_type": "execute_result"
    }
   ],
   "source": [
    "# 16\n",
    "Etae = (Ht * Etamt - Hk * Etamk) / Q1\n",
    "Etae"
   ]
  },
  {
   "cell_type": "code",
   "execution_count": 64,
   "id": "da17a093-fa17-4278-a3f8-d0b567dcd5bf",
   "metadata": {},
   "outputs": [
    {
     "data": {
      "text/plain": [
       "0.5119042320031533"
      ]
     },
     "execution_count": 64,
     "metadata": {},
     "output_type": "execute_result"
    }
   ],
   "source": [
    "# 17\n",
    "phi = (Ht * Etamt - Hk / Etamk) / (Ht * Etamt)\n",
    "phi"
   ]
  },
  {
   "cell_type": "markdown",
   "id": "d7794c7a-893d-46fb-9304-c26bf077f2ff",
   "metadata": {},
   "source": [
    "# Печать"
   ]
  },
  {
   "cell_type": "code",
   "execution_count": 67,
   "id": "9ebd8d92-f863-4d74-9b61-5048b3d5d9ab",
   "metadata": {},
   "outputs": [
    {
     "name": "stdout",
     "output_type": "stream",
     "text": [
      "\\def \\N {65}\n",
      "\\def \\Ttri {1643.15}\n",
      "\\def \\PN {0.1013}\n",
      "\\def \\TN {288}\n",
      "\\def \\Pik {18}\n",
      "\\def \\RN {0.287}\n",
      "\\def \\CPN {1.03}\n",
      "\\def \\Kg {1.33}\n",
      "\\def \\Gg {0.287}\n",
      "\\def \\CPg {1.16}\n",
      "\\def \\SigEN {0.987}\n",
      "\\def \\EtaKAD {0.91}\n",
      "\\def \\SigBU {0.96}\n",
      "\\def \\SigOUT {0.985}\n",
      "\\def \\EtaTpol {0.87}\n",
      "\\def \\Etamt {0.995}\n",
      "\\def \\Etamk {0.995}\n",
      "\\def \\Etaks {0.98}\n",
      "\\def \\KN {1.386}\n",
      "%%%%%%%%%%%%%%%%%%%%%%%%%%%%%%%%%%%%%%%%%%%%%%%%%%%%%%%%%%%%%%%%%%%%%\n",
      "\\def \\Podi {0.1}\n",
      "\\def \\Todi {288}\n",
      "\\def \\Pdwa {1.8}\n",
      "\\def \\Tdwa {644.41}\n",
      "\\def \\Hok {367.103}\n",
      "\\def \\Hk {403.41}\n",
      "\\def \\Ptri {1.728}\n",
      "\\def \\Pche {0.103}\n",
      "\\def \\PiT {16.8}\n",
      "\\def \\Hot {959.568}\n",
      "\\def \\Ht {834.824}\n",
      "\\def \\Tche {815.936}\n",
      "\\def \\GN {152.864}\n",
      "\\def \\Qii {1158.538}\n",
      "\\def \\Qodi {1182.181}\n",
      "\\def \\Etae {0.363}\n",
      "\\def \\phi {0.512}\n"
     ]
    }
   ],
   "source": [
    "print(f\"\\\\def \\\\N {{{round(N,3)}}}\")\n",
    "print(f\"\\\\def \\\\Ttri {{{round(T3,3)}}}\")\n",
    "print(f\"\\\\def \\\\PN {{{round(PN,4)}}}\")\n",
    "print(f\"\\\\def \\\\TN {{{round(TN,3)}}}\")\n",
    "print(f\"\\\\def \\\\Pik {{{round(Pik,3)}}}\")\n",
    "print(f\"\\\\def \\\\RN {{{round(RN,3)}}}\")\n",
    "print(f\"\\\\def \\\\CPN {{{round(CPN,3)}}}\")\n",
    "\n",
    "print(f\"\\\\def \\\\Kg {{{round(Kg,3)}}}\")\n",
    "print(f\"\\\\def \\\\Gg {{{round(Rg,3)}}}\")\n",
    "print(f\"\\\\def \\\\CPg {{{round(CPg,3)}}}\")\n",
    "\n",
    "print(f\"\\\\def \\\\SigEN {{{round(SigEN,3)}}}\")\n",
    "print(f\"\\\\def \\\\EtaKAD {{{round(EtaKAD,3)}}}\")\n",
    "print(f\"\\\\def \\\\SigBU {{{round(SigBU,3)}}}\")\n",
    "print(f\"\\\\def \\\\SigOUT {{{round(SigOUT,3)}}}\")\n",
    "print(f\"\\\\def \\\\EtaTpol {{{round(EtaTpol,3)}}}\")\n",
    "print(f\"\\\\def \\\\Etamt {{{round(Etamt,3)}}}\")\n",
    "print(f\"\\\\def \\\\Etamk {{{round(Etamk,3)}}}\")\n",
    "print(f\"\\\\def \\\\Etaks {{{round(Etaks,3)}}}\")\n",
    "\n",
    "print(f\"\\\\def \\\\KN {{{round(KN,3)}}}\")\n",
    "print('%%%%%%%%%%%%%%%%%%%%%%%%%%%%%%%%%%%%%%%%%%%%%%%%%%%%%%%%%%%%%%%%%%%%%')\n",
    "\n",
    "print(f\"\\\\def \\\\Podi {{{round(P1,3)}}}\")\n",
    "print(f\"\\\\def \\\\Todi {{{round(T1,3)}}}\")\n",
    "print(f\"\\\\def \\\\Pdwa {{{round(P2,3)}}}\")\n",
    "print(f\"\\\\def \\\\Tdwa {{{round(T2,3)}}}\")\n",
    "print(f\"\\\\def \\\\Hok {{{round(Hok,3)}}}\")\n",
    "print(f\"\\\\def \\\\Hk {{{round(Hk,3)}}}\")\n",
    "print(f\"\\\\def \\\\Ptri {{{round(P3,3)}}}\")\n",
    "print(f\"\\\\def \\\\Pche {{{round(P4,3)}}}\")\n",
    "print(f\"\\\\def \\\\PiT {{{round(PiT,3)}}}\")\n",
    "print(f\"\\\\def \\\\Hot {{{round(Hot,3)}}}\")\n",
    "print(f\"\\\\def \\\\Ht {{{round(Ht,3)}}}\")\n",
    "print(f\"\\\\def \\\\Tche {{{round(T4,3)}}}\")\n",
    "print(f\"\\\\def \\\\GN {{{round(GN,3)}}}\")\n",
    "print(f\"\\\\def \\\\Qii {{{round(Q11,3)}}}\")\n",
    "print(f\"\\\\def \\\\Qodi {{{round(Q1,3)}}}\")\n",
    "print(f\"\\\\def \\\\Etae {{{round(Etae,3)}}}\")\n",
    "print(f\"\\\\def \\\\phi {{{round(phi,3)}}}\")"
   ]
  },
  {
   "cell_type": "code",
   "execution_count": null,
   "id": "41989654-0e09-4596-adf0-268d3bb70f63",
   "metadata": {},
   "outputs": [],
   "source": []
  }
 ],
 "metadata": {
  "kernelspec": {
   "display_name": "Python 3 (ipykernel)",
   "language": "python",
   "name": "python3"
  },
  "language_info": {
   "codemirror_mode": {
    "name": "ipython",
    "version": 3
   },
   "file_extension": ".py",
   "mimetype": "text/x-python",
   "name": "python",
   "nbconvert_exporter": "python",
   "pygments_lexer": "ipython3",
   "version": "3.12.7"
  }
 },
 "nbformat": 4,
 "nbformat_minor": 5
}
