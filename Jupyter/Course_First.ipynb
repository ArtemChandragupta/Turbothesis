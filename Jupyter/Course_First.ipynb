{
 "cells": [
  {
   "cell_type": "markdown",
   "id": "dd0ac651-0d7b-41d9-ba09-9c6277fffe83",
   "metadata": {},
   "source": [
    "# Переменные"
   ]
  },
  {
   "cell_type": "code",
   "execution_count": 33,
   "id": "577df6f8-6312-4dab-ba5a-713a837ebfa6",
   "metadata": {},
   "outputs": [],
   "source": [
    "N     = 65      # Полезная мощность\n",
    "T_3   = 1643.15 # Температура газа перед турбиной\n",
    "P_N   = 0.1013  # Давление наружного воздуха\n",
    "T_N   = 288     # Температура наружного воздуха\n",
    "Pi_k  = 18      # Целевая степени повышения давления\n",
    "R_N   = 0.287   # Газовая постоянная воздуха\n",
    "C_P_N = 1.03     # Удельная изобарная теплоёмкость воздуха\n",
    "\n",
    "K_g   = 1.33  # Показатель изоэнтропы газа\n",
    "R_g   = 0.287 # \n",
    "C_P_g = 1.16  # Удельная изобарная теплоёмкость газа\n",
    "\n",
    "Sig_EN   = 0.987 # Коэффициент потерь на входном устройстве\n",
    "Eta_K_AD = 0.91  # Политропный КПД компрессора\n",
    "Sig_BU   = 0.96  # Коэффициент потерь в камере сгорания\n",
    "Sig_OUT  = 0.985 # Коэффициент потерь давления в выходном устройстве\n",
    "Eta_T_pol= 0.87  # политропный КПД турбины\n",
    "Eta_mt   = 0.995 #\n",
    "Eta_mk   = 0.995 #\n",
    "Eta_ks   = 0.98  # "
   ]
  },
  {
   "cell_type": "code",
   "execution_count": 4,
   "id": "b2009ac7-ea5a-44d2-909c-34fd146683bf",
   "metadata": {},
   "outputs": [
    {
     "data": {
      "text/plain": [
       "1.386271870794078"
      ]
     },
     "execution_count": 4,
     "metadata": {},
     "output_type": "execute_result"
    }
   ],
   "source": [
    "K_N = C_P_N / (C_P_N - R_N )\n",
    "K_N"
   ]
  },
  {
   "cell_type": "markdown",
   "id": "2f6837fe-241e-4c4d-9036-cd58a20a130f",
   "metadata": {},
   "source": [
    "# Вычисления"
   ]
  },
  {
   "cell_type": "code",
   "execution_count": 5,
   "id": "9636ed9d-ab9e-47f5-93cd-adeb403e5ae3",
   "metadata": {},
   "outputs": [
    {
     "data": {
      "text/plain": [
       "0.0999831"
      ]
     },
     "execution_count": 5,
     "metadata": {},
     "output_type": "execute_result"
    }
   ],
   "source": [
    "# 1\n",
    "P1 = Sig_EN * P_N\n",
    "P1"
   ]
  },
  {
   "cell_type": "code",
   "execution_count": 6,
   "id": "da202d09-aa44-4e1a-b6a8-60ef9cc9103f",
   "metadata": {},
   "outputs": [
    {
     "data": {
      "text/plain": [
       "288"
      ]
     },
     "execution_count": 6,
     "metadata": {},
     "output_type": "execute_result"
    }
   ],
   "source": [
    "# 2\n",
    "T1 = T_N\n",
    "T1"
   ]
  },
  {
   "cell_type": "code",
   "execution_count": 7,
   "id": "ae563db7-1744-4aa3-a028-b47a458ab0d0",
   "metadata": {},
   "outputs": [
    {
     "data": {
      "text/plain": [
       "1.7996958"
      ]
     },
     "execution_count": 7,
     "metadata": {},
     "output_type": "execute_result"
    }
   ],
   "source": [
    "# 3\n",
    "P2 = Pi_k * P1\n",
    "P2"
   ]
  },
  {
   "cell_type": "code",
   "execution_count": 8,
   "id": "b9047ed9-cad3-47ea-9ec3-264f94b4858d",
   "metadata": {},
   "outputs": [
    {
     "data": {
      "text/plain": [
       "644.4104782884015"
      ]
     },
     "execution_count": 8,
     "metadata": {},
     "output_type": "execute_result"
    }
   ],
   "source": [
    "# 4\n",
    "T2 = T_N * (Pi_k ** ((K_N - 1) / K_N))\n",
    "T2"
   ]
  },
  {
   "cell_type": "code",
   "execution_count": 9,
   "id": "8bbc12b8-ec2a-4af2-a85d-f5491e084a86",
   "metadata": {},
   "outputs": [
    {
     "data": {
      "text/plain": [
       "367.10279263705354"
      ]
     },
     "execution_count": 9,
     "metadata": {},
     "output_type": "execute_result"
    }
   ],
   "source": [
    "# 5\n",
    "H_ok = C_P_N * T1 * (Pi_k ** ((K_N - 1) / K_N)-1)\n",
    "H_ok"
   ]
  },
  {
   "cell_type": "code",
   "execution_count": 10,
   "id": "f471db7f-a70e-40bf-88e0-43a4d670a218",
   "metadata": {},
   "outputs": [
    {
     "data": {
      "text/plain": [
       "403.40966223852035"
      ]
     },
     "execution_count": 10,
     "metadata": {},
     "output_type": "execute_result"
    }
   ],
   "source": [
    "# 6\n",
    "H_k = H_ok / Eta_K_AD\n",
    "H_k"
   ]
  },
  {
   "cell_type": "code",
   "execution_count": 13,
   "id": "d615b39e-6cc0-44e0-bdc1-1359e1d8e0d4",
   "metadata": {},
   "outputs": [
    {
     "data": {
      "text/plain": [
       "1.727707968"
      ]
     },
     "execution_count": 13,
     "metadata": {},
     "output_type": "execute_result"
    }
   ],
   "source": [
    "# 7\n",
    "P3 = P2 * Sig_BU\n",
    "P3"
   ]
  },
  {
   "cell_type": "code",
   "execution_count": 14,
   "id": "90af40fa-bfdf-4df6-842e-89efec2a5659",
   "metadata": {},
   "outputs": [
    {
     "data": {
      "text/plain": [
       "0.10284263959390863"
      ]
     },
     "execution_count": 14,
     "metadata": {},
     "output_type": "execute_result"
    }
   ],
   "source": [
    "# 8\n",
    "P4 = P_N / Sig_OUT\n",
    "P4"
   ]
  },
  {
   "cell_type": "code",
   "execution_count": 15,
   "id": "4cf7954a-c414-4526-802e-b37926b44d5f",
   "metadata": {},
   "outputs": [
    {
     "data": {
      "text/plain": [
       "16.7995296"
      ]
     },
     "execution_count": 15,
     "metadata": {},
     "output_type": "execute_result"
    }
   ],
   "source": [
    "# 9\n",
    "Pi_T = P3 / P4\n",
    "Pi_T"
   ]
  },
  {
   "cell_type": "code",
   "execution_count": 20,
   "id": "9adf49c6-aba3-4e74-bbe7-8125a6a602b0",
   "metadata": {},
   "outputs": [
    {
     "data": {
      "text/plain": [
       "959.568183780463"
      ]
     },
     "execution_count": 20,
     "metadata": {},
     "output_type": "execute_result"
    }
   ],
   "source": [
    "# 10\n",
    "H_ot = C_P_g * T_3 * (1 - Pi_T ** ((-K_g + 1) / K_g ))\n",
    "H_ot"
   ]
  },
  {
   "cell_type": "code",
   "execution_count": 23,
   "id": "8eedb65b-5b6e-4170-8c24-5355b8957c09",
   "metadata": {},
   "outputs": [
    {
     "data": {
      "text/plain": [
       "834.8243198890028"
      ]
     },
     "execution_count": 23,
     "metadata": {},
     "output_type": "execute_result"
    }
   ],
   "source": [
    "# 11\n",
    "H_t = H_ot * Eta_T_pol\n",
    "H_t"
   ]
  },
  {
   "cell_type": "code",
   "execution_count": 26,
   "id": "e50782a5-f1b8-436e-afbd-4752d651007e",
   "metadata": {},
   "outputs": [
    {
     "data": {
      "text/plain": [
       "815.9360484651181"
      ]
     },
     "execution_count": 26,
     "metadata": {},
     "output_type": "execute_result"
    }
   ],
   "source": [
    "# 12\n",
    "T4 = T_3 * Pi_T ** (-(K_g-1) / K_g)\n",
    "T4"
   ]
  },
  {
   "cell_type": "code",
   "execution_count": 29,
   "id": "695260db-aa7b-44f1-a2c1-888b3096bdf3",
   "metadata": {},
   "outputs": [
    {
     "data": {
      "text/plain": [
       "152.8644378686324"
      ]
     },
     "execution_count": 29,
     "metadata": {},
     "output_type": "execute_result"
    }
   ],
   "source": [
    "# 13\n",
    "G_N = N * 1000 / (H_t * Eta_mt - H_k / Eta_mk)\n",
    "G_N"
   ]
  },
  {
   "cell_type": "code",
   "execution_count": 31,
   "id": "13541634-d0dd-4157-8a4c-c671582d2d19",
   "metadata": {},
   "outputs": [
    {
     "data": {
      "text/plain": [
       "1158.5378451854542"
      ]
     },
     "execution_count": 31,
     "metadata": {},
     "output_type": "execute_result"
    }
   ],
   "source": [
    "# 14\n",
    "Q11 = C_P_g * (T_3 - T2)\n",
    "Q11"
   ]
  },
  {
   "cell_type": "code",
   "execution_count": 34,
   "id": "158b15e8-0210-4d97-9eb6-947cddd68631",
   "metadata": {},
   "outputs": [
    {
     "data": {
      "text/plain": [
       "1182.1814746790349"
      ]
     },
     "execution_count": 34,
     "metadata": {},
     "output_type": "execute_result"
    }
   ],
   "source": [
    "# 15\n",
    "Q1 = Q11 / Eta_ks\n",
    "Q1"
   ]
  },
  {
   "cell_type": "code",
   "execution_count": 36,
   "id": "9b4d35fb-3c05-49d4-a844-3d18fe682120",
   "metadata": {},
   "outputs": [
    {
     "data": {
      "text/plain": [
       "0.3631063365112996"
      ]
     },
     "execution_count": 36,
     "metadata": {},
     "output_type": "execute_result"
    }
   ],
   "source": [
    "# 16\n",
    "Eta_e = (H_t * Eta_mt - H_k * Eta_mk) / Q1\n",
    "Eta_e"
   ]
  },
  {
   "cell_type": "code",
   "execution_count": 39,
   "id": "da17a093-fa17-4278-a3f8-d0b567dcd5bf",
   "metadata": {},
   "outputs": [
    {
     "data": {
      "text/plain": [
       "0.5119042320031533"
      ]
     },
     "execution_count": 39,
     "metadata": {},
     "output_type": "execute_result"
    }
   ],
   "source": [
    "# 17\n",
    "phi = (H_t * Eta_mt - H_k / Eta_mk) / (H_t * Eta_mt)\n",
    "phi"
   ]
  },
  {
   "cell_type": "code",
   "execution_count": null,
   "id": "9ebd8d92-f863-4d74-9b61-5048b3d5d9ab",
   "metadata": {},
   "outputs": [],
   "source": []
  }
 ],
 "metadata": {
  "kernelspec": {
   "display_name": "Python 3 (ipykernel)",
   "language": "python",
   "name": "python3"
  },
  "language_info": {
   "codemirror_mode": {
    "name": "ipython",
    "version": 3
   },
   "file_extension": ".py",
   "mimetype": "text/x-python",
   "name": "python",
   "nbconvert_exporter": "python",
   "pygments_lexer": "ipython3",
   "version": "3.12.7"
  }
 },
 "nbformat": 4,
 "nbformat_minor": 5
}
