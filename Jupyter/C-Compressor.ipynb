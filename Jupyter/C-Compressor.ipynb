{
 "cells": [
  {
   "cell_type": "markdown",
   "id": "6f7669d6-238e-467b-add1-49fe431dbab1",
   "metadata": {},
   "source": [
    "# Переменные"
   ]
  },
  {
   "cell_type": "code",
   "execution_count": 6,
   "id": "e14440e1-ece0-465b-adf6-e86208f15fe5",
   "metadata": {},
   "outputs": [],
   "source": [
    "import math\n",
    "\n",
    "PN   = 0.1013\n",
    "TN   = 288\n",
    "RN   = 0.287\n",
    "CP_N = 1.03\n",
    "eta_a = 0.88"
   ]
  },
  {
   "cell_type": "code",
   "execution_count": 7,
   "id": "cb53bc09-46f0-47cd-8d07-5d0aa85c852a",
   "metadata": {},
   "outputs": [
    {
     "data": {
      "text/plain": [
       "1.386271870794078"
      ]
     },
     "execution_count": 7,
     "metadata": {},
     "output_type": "execute_result"
    }
   ],
   "source": [
    "K_N = CP_N / (CP_N - RN )\n",
    "K_N"
   ]
  },
  {
   "cell_type": "markdown",
   "id": "0f890d57-0544-4932-9ebd-e369131fe36b",
   "metadata": {},
   "source": [
    "# Вычисления"
   ]
  },
  {
   "cell_type": "code",
   "execution_count": 8,
   "id": "06a5fbf1-6578-4cef-ae76-c7d0a17df7dc",
   "metadata": {},
   "outputs": [
    {
     "data": {
      "text/plain": [
       "0.100287"
      ]
     },
     "execution_count": 8,
     "metadata": {},
     "output_type": "execute_result"
    }
   ],
   "source": [
    "Sig_in = 0.99\n",
    "P1     = Sig_in * PN\n",
    "P1"
   ]
  },
  {
   "cell_type": "code",
   "execution_count": 9,
   "id": "ec686a47-ef8f-4e09-bcf5-1ded817ce0da",
   "metadata": {},
   "outputs": [
    {
     "data": {
      "text/plain": [
       "288"
      ]
     },
     "execution_count": 9,
     "metadata": {},
     "output_type": "execute_result"
    }
   ],
   "source": [
    "T1 = TN\n",
    "T1"
   ]
  },
  {
   "cell_type": "code",
   "execution_count": 10,
   "id": "5bf2699c-ff83-4fb8-9aa9-25480dd5f5c9",
   "metadata": {},
   "outputs": [
    {
     "data": {
      "text/plain": [
       "1.6208"
      ]
     },
     "execution_count": 10,
     "metadata": {},
     "output_type": "execute_result"
    }
   ],
   "source": [
    "Pi_k = 16\n",
    "Pk   = PN * Pi_k\n",
    "Pk"
   ]
  },
  {
   "cell_type": "code",
   "execution_count": 11,
   "id": "ff6ae709-c248-4970-b106-5a151a2a105a",
   "metadata": {},
   "outputs": [
    {
     "data": {
      "text/plain": [
       "1.6538775510204082"
      ]
     },
     "execution_count": 11,
     "metadata": {},
     "output_type": "execute_result"
    }
   ],
   "source": [
    "Sig_out = 0.98\n",
    "P2      = Pk / Sig_out\n",
    "P2"
   ]
  },
  {
   "cell_type": "code",
   "execution_count": 12,
   "id": "ee0ca4c8-1e85-4764-aeb7-59709d674ef5",
   "metadata": {},
   "outputs": [
    {
     "data": {
      "text/plain": [
       "1.21330574912892"
      ]
     },
     "execution_count": 12,
     "metadata": {},
     "output_type": "execute_result"
    }
   ],
   "source": [
    "Eta_ad = 0.88\n",
    "Rho1   = 1000 * P1 / (RN * T1)\n",
    "Rho1"
   ]
  },
  {
   "cell_type": "code",
   "execution_count": 58,
   "id": "5f4a5557-f815-4289-89cf-8931369b7fd4",
   "metadata": {},
   "outputs": [
    {
     "data": {
      "text/plain": [
       "8.241370722937559"
      ]
     },
     "execution_count": 58,
     "metadata": {},
     "output_type": "execute_result"
    }
   ],
   "source": [
    "nk   = 1.463\n",
    "Rho2 = Rho1 * (P2/P1)** (1/nk)\n",
    "Rho2"
   ]
  },
  {
   "cell_type": "code",
   "execution_count": 14,
   "id": "d5933be7-0b54-465b-8785-a8c7f7af908b",
   "metadata": {},
   "outputs": [
    {
     "data": {
      "text/plain": [
       "1.1513560847157818"
      ]
     },
     "execution_count": 14,
     "metadata": {},
     "output_type": "execute_result"
    }
   ],
   "source": [
    "Cz1 = 140\n",
    "Cz2 = 120\n",
    "V1  = 0.5\n",
    "GN  = 132.571\n",
    "\n",
    "D1 = ((4*GN) / (Rho1*3.14*(1-V1**2)*Cz1)) ** (1/2)\n",
    "D1"
   ]
  },
  {
   "cell_type": "code",
   "execution_count": 15,
   "id": "ede083ec-f348-4629-9329-fdfae5f55719",
   "metadata": {},
   "outputs": [
    {
     "data": {
      "text/plain": [
       "0.5756780423578909"
      ]
     },
     "execution_count": 15,
     "metadata": {},
     "output_type": "execute_result"
    }
   ],
   "source": [
    "Dvt1 = V1 * D1\n",
    "Dvt1"
   ]
  },
  {
   "cell_type": "code",
   "execution_count": 16,
   "id": "d18cdc35-aa3d-4f43-a4f2-52000c14d71b",
   "metadata": {},
   "outputs": [
    {
     "data": {
      "text/plain": [
       "0.8635170635368363"
      ]
     },
     "execution_count": 16,
     "metadata": {},
     "output_type": "execute_result"
    }
   ],
   "source": [
    "Dsr1 = (Dvt1 + D1)/2\n",
    "Dsr1"
   ]
  },
  {
   "cell_type": "code",
   "execution_count": 17,
   "id": "02df2dc3-9df7-44fb-a632-6ebe21833044",
   "metadata": {},
   "outputs": [
    {
     "data": {
      "text/plain": [
       "0.28783902117894544"
      ]
     },
     "execution_count": 17,
     "metadata": {},
     "output_type": "execute_result"
    }
   ],
   "source": [
    "l1 = (D1-Dvt1)/2\n",
    "l1"
   ]
  },
  {
   "cell_type": "code",
   "execution_count": 18,
   "id": "8bd5cdf4-c1c0-40be-be4b-74876c284dfd",
   "metadata": {},
   "outputs": [
    {
     "data": {
      "text/plain": [
       "0.13405031401615589"
      ]
     },
     "execution_count": 18,
     "metadata": {},
     "output_type": "execute_result"
    }
   ],
   "source": [
    "F2 = GN / (Cz2 * Rho2)\n",
    "F2"
   ]
  },
  {
   "cell_type": "code",
   "execution_count": 19,
   "id": "51a68430-c598-487d-898a-48f377181d8f",
   "metadata": {},
   "outputs": [
    {
     "data": {
      "text/plain": [
       "0.8123708078501808"
      ]
     },
     "execution_count": 19,
     "metadata": {},
     "output_type": "execute_result"
    }
   ],
   "source": [
    "V2 = 1/(1+ (4*F2) / (3.14 * Dvt1**2) )**(1/2)\n",
    "V2"
   ]
  },
  {
   "cell_type": "code",
   "execution_count": 20,
   "id": "aa2e40f6-a379-4f2e-ad50-7a2d654b2e54",
   "metadata": {},
   "outputs": [
    {
     "data": {
      "text/plain": [
       "0.0664807283707323"
      ]
     },
     "execution_count": 20,
     "metadata": {},
     "output_type": "execute_result"
    }
   ],
   "source": [
    "l2 = 1/2 * (1/V2 - 1) * Dvt1\n",
    "l2"
   ]
  },
  {
   "cell_type": "code",
   "execution_count": 21,
   "id": "35c9a47d-71f5-4a18-8973-0e57857cd819",
   "metadata": {},
   "outputs": [
    {
     "data": {
      "text/plain": [
       "2999.984975340329"
      ]
     },
     "execution_count": 21,
     "metadata": {},
     "output_type": "execute_result"
    }
   ],
   "source": [
    "Un1 = 180.762\n",
    "n = (60*Un1)/(3.14*D1)\n",
    "n"
   ]
  },
  {
   "cell_type": "code",
   "execution_count": 22,
   "id": "97126b83-f6e7-4921-a630-c1e58067f641",
   "metadata": {},
   "outputs": [
    {
     "data": {
      "text/plain": [
       "351.11030406286994"
      ]
     },
     "execution_count": 22,
     "metadata": {},
     "output_type": "execute_result"
    }
   ],
   "source": [
    "Ha = (K_N / (K_N-1)) * RN * T1 * ( (P2/P1)**( (K_N-1)/(K_N) ) - 1 ) \n",
    "Ha"
   ]
  },
  {
   "cell_type": "code",
   "execution_count": 23,
   "id": "2c52b5f9-7ba3-41de-98cf-2810c4faf147",
   "metadata": {},
   "outputs": [
    {
     "data": {
      "text/plain": [
       "398.98898188962494"
      ]
     },
     "execution_count": 23,
     "metadata": {},
     "output_type": "execute_result"
    }
   ],
   "source": [
    "Hk = Ha / eta_a\n",
    "Hk"
   ]
  },
  {
   "cell_type": "code",
   "execution_count": 24,
   "id": "b29ad563-f6c0-46d9-8212-4f9784bd7562",
   "metadata": {},
   "outputs": [
    {
     "data": {
      "text/plain": [
       "15"
      ]
     },
     "execution_count": 24,
     "metadata": {},
     "output_type": "execute_result"
    }
   ],
   "source": [
    "h_cp = 27\n",
    "i = math. ceil(Hk/h_cp)\n",
    "i"
   ]
  },
  {
   "cell_type": "code",
   "execution_count": 25,
   "id": "bc40016e-4f07-4c95-b02a-03bc691f7a71",
   "metadata": {},
   "outputs": [
    {
     "data": {
      "text/plain": [
       "17.55"
      ]
     },
     "execution_count": 25,
     "metadata": {},
     "output_type": "execute_result"
    }
   ],
   "source": [
    "h1 = 0.65 * h_cp\n",
    "h1"
   ]
  },
  {
   "cell_type": "code",
   "execution_count": 26,
   "id": "9c363c58-b5bf-4d7d-a855-e22f5dfc54ce",
   "metadata": {},
   "outputs": [
    {
     "data": {
      "text/plain": [
       "31.049999999999997"
      ]
     },
     "execution_count": 26,
     "metadata": {},
     "output_type": "execute_result"
    }
   ],
   "source": [
    "h_m = 1.15 * h_cp\n",
    "h_m"
   ]
  },
  {
   "cell_type": "code",
   "execution_count": 27,
   "id": "d0bf46ec-70fd-4b91-85fe-b48dbaffca74",
   "metadata": {},
   "outputs": [
    {
     "data": {
      "text/plain": [
       "135.5715"
      ]
     },
     "execution_count": 27,
     "metadata": {},
     "output_type": "execute_result"
    }
   ],
   "source": [
    "Usr1 = 3.14 * Dsr1 * n/ 60\n",
    "Usr1"
   ]
  },
  {
   "cell_type": "code",
   "execution_count": 28,
   "id": "a8a63b40-42ce-42db-8218-bb3dc03f6594",
   "metadata": {},
   "outputs": [
    {
     "data": {
      "text/plain": [
       "1.0326654200919811"
      ]
     },
     "execution_count": 28,
     "metadata": {},
     "output_type": "execute_result"
    }
   ],
   "source": [
    "Phi_1 = Cz1 / Usr1\n",
    "Phi_1"
   ]
  },
  {
   "cell_type": "code",
   "execution_count": 29,
   "id": "c5f35473-0ecf-494a-a186-10d8e22e79cd",
   "metadata": {},
   "outputs": [
    {
     "data": {
      "text/plain": [
       "0.9548613579557793"
      ]
     },
     "execution_count": 29,
     "metadata": {},
     "output_type": "execute_result"
    }
   ],
   "source": [
    "hh1 = h1*1000/ (Usr1)**2\n",
    "hh1"
   ]
  },
  {
   "cell_type": "code",
   "execution_count": 30,
   "id": "c4168f71-c096-43b6-b43b-7497e3a4998f",
   "metadata": {},
   "outputs": [
    {
     "data": {
      "text/plain": [
       "0.9246570470721566"
      ]
     },
     "execution_count": 30,
     "metadata": {},
     "output_type": "execute_result"
    }
   ],
   "source": [
    "otn = hh1 / Phi_1\n",
    "otn"
   ]
  },
  {
   "cell_type": "code",
   "execution_count": 31,
   "id": "822758b6-ebd9-49c9-af0b-ad351c8fa305",
   "metadata": {},
   "outputs": [
    {
     "data": {
      "text/plain": [
       "0.4841839285714285"
      ]
     },
     "execution_count": 31,
     "metadata": {},
     "output_type": "execute_result"
    }
   ],
   "source": [
    "Ome = 0.5\n",
    "otm = Ome / Phi_1\n",
    "otm"
   ]
  },
  {
   "cell_type": "code",
   "execution_count": 32,
   "id": "3a7cde7c-fd08-403b-87a4-7cd0e86fd779",
   "metadata": {},
   "outputs": [
    {
     "data": {
      "text/plain": [
       "1.3577930206639597"
      ]
     },
     "execution_count": 32,
     "metadata": {},
     "output_type": "execute_result"
    }
   ],
   "source": [
    "Po_graph = 0.681\n",
    "J=otn/Po_graph\n",
    "J"
   ]
  },
  {
   "cell_type": "code",
   "execution_count": 33,
   "id": "a218f346-6d79-482b-a7d3-890c9a7bf044",
   "metadata": {},
   "outputs": [
    {
     "data": {
      "text/plain": [
       "0.6954102920723227"
      ]
     },
     "execution_count": 33,
     "metadata": {},
     "output_type": "execute_result"
    }
   ],
   "source": [
    "GraphJ = 1.438\n",
    "tb = 1/GraphJ\n",
    "tb"
   ]
  },
  {
   "cell_type": "code",
   "execution_count": 34,
   "id": "ec070284-24fc-4616-a615-94da45695075",
   "metadata": {},
   "outputs": [
    {
     "data": {
      "text/plain": [
       "0.4636068613815485"
      ]
     },
     "execution_count": 34,
     "metadata": {},
     "output_type": "execute_result"
    }
   ],
   "source": [
    "tbem = tb * Dvt1 / Dsr1\n",
    "tbem"
   ]
  },
  {
   "cell_type": "code",
   "execution_count": 35,
   "id": "98d953fb-5c3a-45fc-b2c8-80e6c75745c2",
   "metadata": {},
   "outputs": [
    {
     "data": {
      "text/plain": [
       "135.5715"
      ]
     },
     "execution_count": 35,
     "metadata": {},
     "output_type": "execute_result"
    }
   ],
   "source": [
    "Usr2 = Usr1\n",
    "Usr2"
   ]
  },
  {
   "cell_type": "code",
   "execution_count": 36,
   "id": "692be66d-f68f-4fc4-b014-bb1bcf1db118",
   "metadata": {},
   "outputs": [
    {
     "data": {
      "text/plain": [
       "135.5715"
      ]
     },
     "execution_count": 36,
     "metadata": {},
     "output_type": "execute_result"
    }
   ],
   "source": [
    "U=Usr2\n",
    "Usr2"
   ]
  },
  {
   "cell_type": "code",
   "execution_count": 37,
   "id": "a88de2b8-2101-4e1f-b731-d5975f762767",
   "metadata": {},
   "outputs": [
    {
     "data": {
      "text/plain": [
       "3.059756704949038"
      ]
     },
     "execution_count": 37,
     "metadata": {},
     "output_type": "execute_result"
    }
   ],
   "source": [
    "Cu1 = U * (1-Ome) - 1000*h1/(2*U)\n",
    "Cu1"
   ]
  },
  {
   "cell_type": "code",
   "execution_count": 38,
   "id": "a2baf9a4-75cf-4a42-9fe9-8b54b7fc7bab",
   "metadata": {},
   "outputs": [
    {
     "data": {
      "text/plain": [
       "132.51174329505096"
      ]
     },
     "execution_count": 38,
     "metadata": {},
     "output_type": "execute_result"
    }
   ],
   "source": [
    "Cu2 = U * (1-Ome) + 1000*h1/(2*U)\n",
    "Cu2"
   ]
  },
  {
   "cell_type": "code",
   "execution_count": 39,
   "id": "83d94cd4-3193-4b3c-b4bb-a1ff5c3a015f",
   "metadata": {},
   "outputs": [
    {
     "data": {
      "text/plain": [
       "140.03343211923888"
      ]
     },
     "execution_count": 39,
     "metadata": {},
     "output_type": "execute_result"
    }
   ],
   "source": [
    "C1 = (Cz1**2 + Cu1**2)**(1/2)\n",
    "C1"
   ]
  },
  {
   "cell_type": "code",
   "execution_count": 40,
   "id": "6c1c96b4-79ad-4c67-b907-d768788f9cfc",
   "metadata": {},
   "outputs": [
    {
     "data": {
      "text/plain": [
       "88.74797685313503"
      ]
     },
     "execution_count": 40,
     "metadata": {},
     "output_type": "execute_result"
    }
   ],
   "source": [
    "a1 = math.degrees(math.atan(Cz1/Cu1))\n",
    "a1"
   ]
  },
  {
   "cell_type": "code",
   "execution_count": 41,
   "id": "3a11da3b-6ca2-47c8-b03b-3ede209fa08d",
   "metadata": {},
   "outputs": [
    {
     "data": {
      "text/plain": [
       "278.48089217908085"
      ]
     },
     "execution_count": 41,
     "metadata": {},
     "output_type": "execute_result"
    }
   ],
   "source": [
    "T11 = T1- (C1**2) / (2* RN * 1000 * (K_N)/(K_N-1) )\n",
    "T11"
   ]
  },
  {
   "cell_type": "code",
   "execution_count": 42,
   "id": "e2c829f1-db9e-4702-8883-fc659a4872de",
   "metadata": {},
   "outputs": [
    {
     "data": {
      "text/plain": [
       "-132.51174329505096"
      ]
     },
     "execution_count": 42,
     "metadata": {},
     "output_type": "execute_result"
    }
   ],
   "source": [
    "Wu1 = Cu1 - U\n",
    "Wu1"
   ]
  },
  {
   "cell_type": "code",
   "execution_count": 43,
   "id": "3bd2d04c-8a6e-4a02-90a2-aa10130733c3",
   "metadata": {},
   "outputs": [
    {
     "data": {
      "text/plain": [
       "192.76763761350992"
      ]
     },
     "execution_count": 43,
     "metadata": {},
     "output_type": "execute_result"
    }
   ],
   "source": [
    "W1 = (Cz1**2 + Wu1**2)**(1/2)\n",
    "W1"
   ]
  },
  {
   "cell_type": "code",
   "execution_count": 44,
   "id": "b5a95fa1-c24d-4649-a1c6-4f0421cfd62f",
   "metadata": {},
   "outputs": [
    {
     "data": {
      "text/plain": [
       "0.5694724615136366"
      ]
     },
     "execution_count": 44,
     "metadata": {},
     "output_type": "execute_result"
    }
   ],
   "source": [
    "Mw1 = W1/ (K_N* 1000* RN * T1)**(1/2)\n",
    "Mw1"
   ]
  },
  {
   "cell_type": "code",
   "execution_count": 45,
   "id": "8e8caf4f-c4bd-4f84-910a-221aafa45809",
   "metadata": {},
   "outputs": [
    {
     "data": {
      "text/plain": [
       "46.57401498155393"
      ]
     },
     "execution_count": 45,
     "metadata": {},
     "output_type": "execute_result"
    }
   ],
   "source": [
    "B1 = math.degrees(math.atan(Cz1/ (-Wu1)))\n",
    "B1"
   ]
  },
  {
   "cell_type": "code",
   "execution_count": 46,
   "id": "eab3156e-c02c-49a7-8509-b54c142d1595",
   "metadata": {},
   "outputs": [
    {
     "data": {
      "text/plain": [
       "1.3333333333333333"
      ]
     },
     "execution_count": 46,
     "metadata": {},
     "output_type": "execute_result"
    }
   ],
   "source": [
    "DCz = (Cz1-Cz2)/i\n",
    "DCz"
   ]
  },
  {
   "cell_type": "code",
   "execution_count": 47,
   "id": "26054e3b-fe1e-4e3b-aa11-6c76e70ae496",
   "metadata": {},
   "outputs": [
    {
     "data": {
      "text/plain": [
       "139.33333333333334"
      ]
     },
     "execution_count": 47,
     "metadata": {},
     "output_type": "execute_result"
    }
   ],
   "source": [
    "OCz2 = Cz1 - DCz/2\n",
    "OCz2"
   ]
  },
  {
   "cell_type": "code",
   "execution_count": 48,
   "id": "9b35b108-5386-461e-826b-eda511bd1af7",
   "metadata": {},
   "outputs": [
    {
     "data": {
      "text/plain": [
       "192.2840084065008"
      ]
     },
     "execution_count": 48,
     "metadata": {},
     "output_type": "execute_result"
    }
   ],
   "source": [
    "C2 = (OCz2**2 + Cu2**2)**(1/2)\n",
    "C2"
   ]
  },
  {
   "cell_type": "code",
   "execution_count": 49,
   "id": "7192f13b-c03d-468e-a976-236778adb8cd",
   "metadata": {},
   "outputs": [
    {
     "data": {
      "text/plain": [
       "42.16336249769939"
      ]
     },
     "execution_count": 49,
     "metadata": {},
     "output_type": "execute_result"
    }
   ],
   "source": [
    "a2 = math.degrees(math.atan(Cz2/ (Cu2)))\n",
    "a2"
   ]
  },
  {
   "cell_type": "code",
   "execution_count": 50,
   "id": "b2777f92-085a-46d6-bf3b-a5c6d8b9a101",
   "metadata": {},
   "outputs": [
    {
     "data": {
      "text/plain": [
       "-3.0597567049490237"
      ]
     },
     "execution_count": 50,
     "metadata": {},
     "output_type": "execute_result"
    }
   ],
   "source": [
    "Wu2=Cu2-U\n",
    "Wu2"
   ]
  },
  {
   "cell_type": "code",
   "execution_count": 51,
   "id": "ad0d312b-b9ae-433e-b9ec-cce7554d7a89",
   "metadata": {},
   "outputs": [
    {
     "data": {
      "text/plain": [
       "139.36692537640076"
      ]
     },
     "execution_count": 51,
     "metadata": {},
     "output_type": "execute_result"
    }
   ],
   "source": [
    "W2 = (OCz2**2+ Wu2**2)**(1/2)\n",
    "W2"
   ]
  },
  {
   "cell_type": "code",
   "execution_count": 52,
   "id": "29dfba60-7839-4c06-8708-a2dd6b05b2e9",
   "metadata": {},
   "outputs": [
    {
     "data": {
      "text/plain": [
       "88.53939026920492"
      ]
     },
     "execution_count": 52,
     "metadata": {},
     "output_type": "execute_result"
    }
   ],
   "source": [
    "B2 = math.degrees(math.atan(Cz2/ (-Wu2)))\n",
    "B2"
   ]
  },
  {
   "cell_type": "code",
   "execution_count": 53,
   "id": "b17c3f65-fc66-4c9a-a862-b9793ce3ea32",
   "metadata": {},
   "outputs": [
    {
     "data": {
      "text/plain": [
       "41.965375287650986"
      ]
     },
     "execution_count": 53,
     "metadata": {},
     "output_type": "execute_result"
    }
   ],
   "source": [
    "Epsi = B2-B1\n",
    "Epsi"
   ]
  },
  {
   "cell_type": "code",
   "execution_count": 54,
   "id": "e22cc10c-4a17-4906-b9ff-0e44ae6df81e",
   "metadata": {},
   "outputs": [
    {
     "data": {
      "text/plain": [
       "0.7744990650689857"
      ]
     },
     "execution_count": 54,
     "metadata": {},
     "output_type": "execute_result"
    }
   ],
   "source": [
    "Phi_n = Cz1/Un1\n",
    "Phi_n"
   ]
  },
  {
   "cell_type": "code",
   "execution_count": 55,
   "id": "31b9372b-c48f-45cb-adfb-934eb74c875f",
   "metadata": {},
   "outputs": [
    {
     "data": {
      "text/plain": [
       "180.762"
      ]
     },
     "execution_count": 55,
     "metadata": {},
     "output_type": "execute_result"
    }
   ],
   "source": [
    "Un1"
   ]
  },
  {
   "cell_type": "code",
   "execution_count": 56,
   "id": "b17697e0-dd48-4269-8070-a1974b3ee29b",
   "metadata": {},
   "outputs": [
    {
     "data": {
      "text/plain": [
       "0.6754375645347472"
      ]
     },
     "execution_count": 56,
     "metadata": {},
     "output_type": "execute_result"
    }
   ],
   "source": [
    "Mwc = Un1 * (1+Phi_n**2)**(1/2) / (K_N*1000*RN* T1)**(1/2)\n",
    "Mwc"
   ]
  },
  {
   "cell_type": "markdown",
   "id": "e917dce1-22cb-4143-b2d1-b18769d4a3fe",
   "metadata": {},
   "source": [
    "# Печать"
   ]
  },
  {
   "cell_type": "code",
   "execution_count": 70,
   "id": "1aa23c44-9d17-45a3-92a8-2b86628d5907",
   "metadata": {},
   "outputs": [
    {
     "name": "stdout",
     "output_type": "stream",
     "text": [
      "\\def \\PiPi {16}\n",
      "\\def \\Sigout {0.98}\n",
      "\\def \\Sigin {0.99}\n",
      "\\def \\Etad {0.88}\n",
      "\\def \\nk {1.463}\n",
      "%%%%%%%%%%%%%%%%%%%%%%%%%%%%%%%%%%%%%%%%%%%%%%%%%%%%%%%%%%%%%%\n",
      "\\def \\PCone {0.1}\n",
      "\\def \\Pk {1.621}\n",
      "\\def \\PCtwo {1.654}\n",
      "\\def \\Rhoone {1.213}\n",
      "\\def \\Rhotwo {8.241}\n",
      "%%%%%%%%%%%%%%%%%%%%%%%%%%%%%%%%%%%%%%%%%%%%%%%%%%%%%%%%%%%%%%%\n",
      "\\def \\Czone {140}\n",
      "\\def \\Cztwo {120}\n",
      "\\def \\Vone {0.5}\n",
      "\\def \\GNN {132.571}\n",
      "\\def \\Dodi {1.151}\n",
      "\\def \\Dvtone {0.576}\n",
      "\\def \\Dsrone {0.864}\n",
      "\\def \\Lone {0.288}\n",
      "\\def \\Ftwo {0.134}\n",
      "\\def \\Vtwo {0.812}\n",
      "\\def \\Ltwo {0.066}\n",
      "\\def \\Unone {180.762}\n",
      "\\def \\n {2999.985}\n",
      "\\def \\Ha {351.11}\n",
      "\\def \\Hkk {398.989}\n",
      "\\def \\hcp {27}\n",
      "\\def \\i {15}\n",
      "\\def \\hone {17.55}\n",
      "\\def \\hm {31.05}\n",
      "\\def \\Usrone {135.571}\n",
      "\\def \\Phione {1.033}\n",
      "\\def \\hhone {0.955}\n",
      "\\def \\otn {0.925}\n",
      "%%%%%%%%%%%%%%%%%%%%%%%%%%%%%%%%%%%%%%%%%%%%%%%%%%%%%%%%%%%%%%%%%%%%%%\n",
      "\\def \\OME {0.5}\n",
      "\\def \\otm {0.484}\n",
      "\\def \\Pograph {0.681}\n",
      "\\def \\J {1.358}\n",
      "\\def \\GraphJ {1.438}\n",
      "\\def \\tb {0.695}\n",
      "\\def \\tbem {0.464}\n",
      "\\def \\Usrtwo {135.571}\n",
      "\\def \\U {135.571}\n",
      "\\def \\Cuone {3.06}\n",
      "\\def \\Cutwo {132.512}\n",
      "%%%%%%%%%%%%%%%%%%%%%%%%%%%%%%%%%%%%%%%%%%%%%%%%%%%%%%%%%%%%%%%%%%%%%%%\n",
      "\\def \\Cone {140.033}\n",
      "\\def \\aone {88.748}\n",
      "\\def \\Too {278.481}\n",
      "\\def \\Wuone {-132.512}\n",
      "\\def \\Wone {192.768}\n",
      "\\def \\Mwone {0.569}\n",
      "\\def \\Bone {46.574}\n",
      "\\def \\DCz {1.333}\n",
      "\\def \\OCztwo {139.333}\n",
      "\\def \\Ctwo {192.284}\n",
      "\\def \\atwo {42.163}\n",
      "\\def \\Wutwo {-3.06}\n",
      "\\def \\Wtwo {139.367}\n",
      "%%%%%%%%%%%%%%%%%%%%%%%%%%%%%%%%%%%%%%%%%%%%%%%%%%%%%%%%%%%%%%%%%%%%%\n",
      "\\def \\Btwo {88.539}\n",
      "\\def \\Epsi {41.965}\n",
      "\\def \\Phin {0.774}\n",
      "\\def \\Mwc {0.675}\n"
     ]
    }
   ],
   "source": [
    "print(f\"\\\\def \\\\PiPi {{{round(Pi_k,3)}}}\")\n",
    "print(f\"\\\\def \\\\Sigout {{{round(Sig_out,3)}}}\")\n",
    "print(f\"\\\\def \\\\Sigin {{{round(Sig_in,3)}}}\")\n",
    "print(f\"\\\\def \\\\Etad {{{round(Eta_ad,3)}}}\")\n",
    "print(f\"\\\\def \\\\nk {{{round(nk,3)}}}\")\n",
    "print('%%%%%%%%%%%%%%%%%%%%%%%%%%%%%%%%%%%%%%%%%%%%%%%%%%%%%%%%%%%%%%')\n",
    "print(f\"\\\\def \\\\PCone {{{round(P1,3)}}}\")\n",
    "print(f\"\\\\def \\\\Pk {{{round(Pk,3)}}}\")\n",
    "print(f\"\\\\def \\\\PCtwo {{{round(P2,3)}}}\")\n",
    "print(f\"\\\\def \\\\Rhoone {{{round(Rho1,3)}}}\")\n",
    "print(f\"\\\\def \\\\Rhotwo {{{round(Rho2,3)}}}\")\n",
    "print('%%%%%%%%%%%%%%%%%%%%%%%%%%%%%%%%%%%%%%%%%%%%%%%%%%%%%%%%%%%%%%%')\n",
    "print(f\"\\\\def \\\\Czone {{{round(Cz1,3)}}}\")\n",
    "print(f\"\\\\def \\\\Cztwo {{{round(Cz2,3)}}}\")\n",
    "print(f\"\\\\def \\\\Vone {{{round(V1,3)}}}\")\n",
    "print(f\"\\\\def \\\\GNN {{{round(GN,3)}}}\")\n",
    "print(f\"\\\\def \\\\Dodi {{{round(D1,3)}}}\")\n",
    "\n",
    "print(f\"\\\\def \\\\Dvtone {{{round(Dvt1,3)}}}\")\n",
    "print(f\"\\\\def \\\\Dsrone {{{round(Dsr1,3)}}}\")\n",
    "print(f\"\\\\def \\\\Lone {{{round(l1,3)}}}\")\n",
    "print(f\"\\\\def \\\\Ftwo {{{round(F2,3)}}}\")\n",
    "print(f\"\\\\def \\\\Vtwo {{{round(V2,3)}}}\")\n",
    "print(f\"\\\\def \\\\Ltwo {{{round(l2,3)}}}\")\n",
    "\n",
    "print(f\"\\\\def \\\\Unone {{{round(Un1,3)}}}\")\n",
    "print(f\"\\\\def \\\\n {{{round(n,3)}}}\")\n",
    "print(f\"\\\\def \\\\Ha {{{round(Ha,3)}}}\")\n",
    "print(f\"\\\\def \\\\Hkk {{{round(Hk,3)}}}\")\n",
    "\n",
    "print(f\"\\\\def \\\\hcp {{{round(h_cp,3)}}}\")\n",
    "print(f\"\\\\def \\\\i {{{round(i,3)}}}\")\n",
    "print(f\"\\\\def \\\\hone {{{round(h1,3)}}}\")\n",
    "print(f\"\\\\def \\\\hm {{{round(h_m,3)}}}\")\n",
    "print(f\"\\\\def \\\\Usrone {{{round(Usr1,3)}}}\")\n",
    "print(f\"\\\\def \\\\Phione {{{round(Phi_1,3)}}}\")\n",
    "print(f\"\\\\def \\\\hhone {{{round(hh1,3)}}}\")\n",
    "print(f\"\\\\def \\\\otn {{{round(otn,3)}}}\")\n",
    "print('%%%%%%%%%%%%%%%%%%%%%%%%%%%%%%%%%%%%%%%%%%%%%%%%%%%%%%%%%%%%%%%%%%%%%%')\n",
    "print(f\"\\\\def \\\\OME {{{round(Ome,3)}}}\")\n",
    "print(f\"\\\\def \\\\otm {{{round(otm,3)}}}\")\n",
    "print(f\"\\\\def \\\\Pograph {{{round(Po_graph,3)}}}\")\n",
    "print(f\"\\\\def \\\\J {{{round(J,3)}}}\")\n",
    "print(f\"\\\\def \\\\GraphJ {{{round(GraphJ,3)}}}\")\n",
    "print(f\"\\\\def \\\\tb {{{round(tb,3)}}}\")\n",
    "print(f\"\\\\def \\\\tbem {{{round(tbem,3)}}}\")\n",
    "print(f\"\\\\def \\\\Usrtwo {{{round(Usr2,3)}}}\")\n",
    "print(f\"\\\\def \\\\U {{{round(U,3)}}}\")\n",
    "print(f\"\\\\def \\\\Cuone {{{round(Cu1,3)}}}\")\n",
    "print(f\"\\\\def \\\\Cutwo {{{round(Cu2,3)}}}\")\n",
    "print('%%%%%%%%%%%%%%%%%%%%%%%%%%%%%%%%%%%%%%%%%%%%%%%%%%%%%%%%%%%%%%%%%%%%%%%')\n",
    "print(f\"\\\\def \\\\Cone {{{round(C1,3)}}}\")\n",
    "print(f\"\\\\def \\\\aone {{{round(a1,3)}}}\")\n",
    "print(f\"\\\\def \\\\Too {{{round(T11,3)}}}\")\n",
    "print(f\"\\\\def \\\\Wuone {{{round(Wu1,3)}}}\")\n",
    "print(f\"\\\\def \\\\Wone {{{round(W1,3)}}}\")\n",
    "print(f\"\\\\def \\\\Mwone {{{round(Mw1,3)}}}\")\n",
    "print(f\"\\\\def \\\\Bone {{{round(B1,3)}}}\")\n",
    "print(f\"\\\\def \\\\DCz {{{round(DCz,3)}}}\")\n",
    "print(f\"\\\\def \\\\OCztwo {{{round(OCz2,3)}}}\")\n",
    "print(f\"\\\\def \\\\Ctwo {{{round(C2,3)}}}\")\n",
    "print(f\"\\\\def \\\\atwo {{{round(a2,3)}}}\")\n",
    "print(f\"\\\\def \\\\Wutwo {{{round(Wu2,3)}}}\")\n",
    "print(f\"\\\\def \\\\Wtwo {{{round(W2,3)}}}\")\n",
    "print('%%%%%%%%%%%%%%%%%%%%%%%%%%%%%%%%%%%%%%%%%%%%%%%%%%%%%%%%%%%%%%%%%%%%%')\n",
    "print(f\"\\\\def \\\\Btwo {{{round(B2,3)}}}\")\n",
    "print(f\"\\\\def \\\\Epsi {{{round(Epsi,3)}}}\")\n",
    "print(f\"\\\\def \\\\Phin {{{round(Phi_n,3)}}}\")\n",
    "print(f\"\\\\def \\\\Mwc {{{round(Mwc,3)}}}\")"
   ]
  },
  {
   "cell_type": "code",
   "execution_count": null,
   "id": "167fb813-9464-4482-9f95-a983d0813973",
   "metadata": {},
   "outputs": [],
   "source": []
  }
 ],
 "metadata": {
  "kernelspec": {
   "display_name": "Python 3 (ipykernel)",
   "language": "python",
   "name": "python3"
  },
  "language_info": {
   "codemirror_mode": {
    "name": "ipython",
    "version": 3
   },
   "file_extension": ".py",
   "mimetype": "text/x-python",
   "name": "python",
   "nbconvert_exporter": "python",
   "pygments_lexer": "ipython3",
   "version": "3.12.7"
  }
 },
 "nbformat": 4,
 "nbformat_minor": 5
}
