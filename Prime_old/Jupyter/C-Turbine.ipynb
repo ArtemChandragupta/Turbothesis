{
 "cells": [
  {
   "cell_type": "markdown",
   "id": "7644f18c-4a21-41e3-a54c-f2dcbb07570c",
   "metadata": {},
   "source": [
    "# Переменные"
   ]
  },
  {
   "cell_type": "code",
   "execution_count": 2,
   "id": "e433420d-ff02-45ba-90fc-ac9dad826b00",
   "metadata": {},
   "outputs": [],
   "source": [
    "import math\n",
    "\n",
    "PN    = 0.1013\n",
    "TN    = 288\n",
    "RN    = 288.3\n",
    "K     = 1.33\n",
    "Cpg   = 1263.7\n",
    "CP_N  = 1.03\n",
    "eta_a = 0.88\n",
    "\n",
    "Sig_ks = 0.99\n",
    "T0     = 1693\n",
    "\n",
    "Pk = 1.621\n",
    "Hk = 399\n",
    "Gv = 132.571\n",
    "Ne = 65 * 10**6\n",
    "\n",
    "Gg = 130.958\n",
    "n  = 5441\n",
    "Eta_ad = 0.91\n",
    "La_c2m = 0.5\n",
    "a2m = 90\n",
    "kn  = 1.0185"
   ]
  },
  {
   "cell_type": "markdown",
   "id": "91855bfe-dcb7-4aab-b9de-889e869ed6c8",
   "metadata": {},
   "source": [
    "# Вычисления"
   ]
  },
  {
   "cell_type": "code",
   "execution_count": 3,
   "id": "dc837d3d-6d85-4c2d-b612-38cca4cfa4c5",
   "metadata": {},
   "outputs": [
    {
     "data": {
      "text/plain": [
       "1.60479"
      ]
     },
     "execution_count": 3,
     "metadata": {},
     "output_type": "execute_result"
    }
   ],
   "source": [
    "P0 = Sig_ks*Pk\n",
    "P0"
   ]
  },
  {
   "cell_type": "code",
   "execution_count": 4,
   "id": "f09d628d-d781-4d9b-a077-cbd1404005a7",
   "metadata": {},
   "outputs": [
    {
     "data": {
      "text/plain": [
       "52895829.0"
      ]
     },
     "execution_count": 4,
     "metadata": {},
     "output_type": "execute_result"
    }
   ],
   "source": [
    "Nk = Hk * Gv * 1000\n",
    "Nk"
   ]
  },
  {
   "cell_type": "code",
   "execution_count": 5,
   "id": "3eef59a7-2484-4c40-8ca5-faf7c9f8fd5f",
   "metadata": {},
   "outputs": [
    {
     "data": {
      "text/plain": [
       "117895829.0"
      ]
     },
     "execution_count": 5,
     "metadata": {},
     "output_type": "execute_result"
    }
   ],
   "source": [
    "Nt = Ne + Nk\n",
    "Nt"
   ]
  },
  {
   "cell_type": "code",
   "execution_count": 6,
   "id": "d3642ba9-d64f-448e-9850-26b930cb3215",
   "metadata": {},
   "outputs": [
    {
     "data": {
      "text/plain": [
       "916911.5429107042"
      ]
     },
     "execution_count": 6,
     "metadata": {},
     "output_type": "execute_result"
    }
   ],
   "source": [
    "Hut = kn* Nt / Gg\n",
    "Hut"
   ]
  },
  {
   "cell_type": "code",
   "execution_count": 7,
   "id": "205ca96c-0353-4aee-9ed7-b6b957ce75c7",
   "metadata": {},
   "outputs": [
    {
     "data": {
      "text/plain": [
       "725.5769113798402"
      ]
     },
     "execution_count": 7,
     "metadata": {},
     "output_type": "execute_result"
    }
   ],
   "source": [
    "DTt = Hut / Cpg\n",
    "DTt"
   ]
  },
  {
   "cell_type": "code",
   "execution_count": 8,
   "id": "bdb31676-806b-4778-b50c-2254d8a79b69",
   "metadata": {},
   "outputs": [
    {
     "data": {
      "text/plain": [
       "967.4230886201598"
      ]
     },
     "execution_count": 8,
     "metadata": {},
     "output_type": "execute_result"
    }
   ],
   "source": [
    "T2t = T0 - DTt\n",
    "T2t"
   ]
  },
  {
   "cell_type": "code",
   "execution_count": 9,
   "id": "9bb437f7-f192-4845-b45b-41a81b5006a3",
   "metadata": {},
   "outputs": [
    {
     "data": {
      "text/plain": [
       "564.2783698610723"
      ]
     },
     "execution_count": 9,
     "metadata": {},
     "output_type": "execute_result"
    }
   ],
   "source": [
    "akr2 = ((2*K)/(K+1)* RN * T2t)**(1/2)\n",
    "akr2"
   ]
  },
  {
   "cell_type": "code",
   "execution_count": 10,
   "id": "4ecb7bf8-a2b1-499e-b5bd-caa280bf9345",
   "metadata": {},
   "outputs": [
    {
     "data": {
      "text/plain": [
       "282.13918493053615"
      ]
     },
     "execution_count": 10,
     "metadata": {},
     "output_type": "execute_result"
    }
   ],
   "source": [
    "c2m = La_c2m * akr2\n",
    "c2m"
   ]
  },
  {
   "cell_type": "code",
   "execution_count": 11,
   "id": "e38dd8bc-e383-4e1b-83d9-dc14529cb436",
   "metadata": {},
   "outputs": [
    {
     "data": {
      "text/plain": [
       "956712.8027473378"
      ]
     },
     "execution_count": 11,
     "metadata": {},
     "output_type": "execute_result"
    }
   ],
   "source": [
    "Hadm = Hut + c2m**2 /2\n",
    "Hadm"
   ]
  },
  {
   "cell_type": "code",
   "execution_count": 12,
   "id": "9ab4656e-4bb6-4794-99bb-76e96d07882f",
   "metadata": {},
   "outputs": [
    {
     "data": {
      "text/plain": [
       "1051332.7502717997"
      ]
     },
     "execution_count": 12,
     "metadata": {},
     "output_type": "execute_result"
    }
   ],
   "source": [
    "Hot = Hadm / Eta_ad\n",
    "Hot"
   ]
  },
  {
   "cell_type": "code",
   "execution_count": 13,
   "id": "bfc352c7-5525-4a91-adba-c198e38ba77a",
   "metadata": {},
   "outputs": [
    {
     "data": {
      "text/plain": [
       "861.0519504061093"
      ]
     },
     "execution_count": 13,
     "metadata": {},
     "output_type": "execute_result"
    }
   ],
   "source": [
    "T2tt = T0 - Hot/Cpg\n",
    "T2tt"
   ]
  },
  {
   "cell_type": "code",
   "execution_count": 14,
   "id": "a0de2a66-f06c-4bc9-a200-0793d757eef1",
   "metadata": {},
   "outputs": [
    {
     "data": {
      "text/plain": [
       "0.1051986072462236"
      ]
     },
     "execution_count": 14,
     "metadata": {},
     "output_type": "execute_result"
    }
   ],
   "source": [
    "P2t = P0 * (T2tt/T0)**(K/(K-1))\n",
    "P2t"
   ]
  },
  {
   "cell_type": "code",
   "execution_count": 15,
   "id": "c5513dd9-1b93-4874-9971-83a607bf9ee1",
   "metadata": {},
   "outputs": [
    {
     "data": {
      "text/plain": [
       "935.9272748695595"
      ]
     },
     "execution_count": 15,
     "metadata": {},
     "output_type": "execute_result"
    }
   ],
   "source": [
    "T2T = T2t - c2m**2 / (2*Cpg)\n",
    "T2T"
   ]
  },
  {
   "cell_type": "code",
   "execution_count": 16,
   "id": "3a0f676a-2293-41ae-80fa-f11b34f24f56",
   "metadata": {},
   "outputs": [
    {
     "data": {
      "text/plain": [
       "0.3898730755168564"
      ]
     },
     "execution_count": 16,
     "metadata": {},
     "output_type": "execute_result"
    }
   ],
   "source": [
    "rho2t = P2t/(RN*T2T)*10**6\n",
    "rho2t"
   ]
  },
  {
   "cell_type": "code",
   "execution_count": 17,
   "id": "a82f6a3c-8d4d-4c94-88f3-70a943b2c556",
   "metadata": {},
   "outputs": [
    {
     "data": {
      "text/plain": [
       "1.3317094588976988"
      ]
     },
     "execution_count": 17,
     "metadata": {},
     "output_type": "execute_result"
    }
   ],
   "source": [
    "F2t = Gg / (rho2t * c2m * math.sin(a2m))\n",
    "F2t"
   ]
  },
  {
   "cell_type": "code",
   "execution_count": 18,
   "id": "31cd1002-070d-46bc-af38-42578519b81e",
   "metadata": {},
   "outputs": [
    {
     "data": {
      "text/plain": [
       "350.87864962376915"
      ]
     },
     "execution_count": 18,
     "metadata": {},
     "output_type": "execute_result"
    }
   ],
   "source": [
    "Sig_p = 0.89 * 10**(-5) * n**2 * F2t\n",
    "Sig_p"
   ]
  },
  {
   "cell_type": "code",
   "execution_count": 19,
   "id": "cdfbcdc3-93a4-4cb5-93a9-2519dcb6f8e1",
   "metadata": {},
   "outputs": [
    {
     "data": {
      "text/plain": [
       "1.7384927827728323"
      ]
     },
     "execution_count": 19,
     "metadata": {},
     "output_type": "execute_result"
    }
   ],
   "source": [
    "Sig_500 = 610\n",
    "Kpr = Sig_500/Sig_p\n",
    "Kpr"
   ]
  },
  {
   "cell_type": "code",
   "execution_count": 20,
   "id": "a9d67de0-4cac-4be1-8865-63abfb54e093",
   "metadata": {},
   "outputs": [
    {
     "data": {
      "text/plain": [
       "398.64393333333334"
      ]
     },
     "execution_count": 20,
     "metadata": {},
     "output_type": "execute_result"
    }
   ],
   "source": [
    "d2m = 1.4\n",
    "u2 = (3.14* d2m * n)/60\n",
    "u2"
   ]
  },
  {
   "cell_type": "code",
   "execution_count": 21,
   "id": "80d6f9b5-7bf6-4985-b71a-88b86849e797",
   "metadata": {},
   "outputs": [
    {
     "data": {
      "text/plain": [
       "0.3029366376018423"
      ]
     },
     "execution_count": 21,
     "metadata": {},
     "output_type": "execute_result"
    }
   ],
   "source": [
    "l2 = F2t / (3.14 * d2m)\n",
    "l2"
   ]
  },
  {
   "cell_type": "code",
   "execution_count": 22,
   "id": "2179ca38-7449-48cd-93fa-4496f12c6a5f",
   "metadata": {},
   "outputs": [
    {
     "data": {
      "text/plain": [
       "4.6214284646549"
      ]
     },
     "execution_count": 22,
     "metadata": {},
     "output_type": "execute_result"
    }
   ],
   "source": [
    "d2m/l2"
   ]
  },
  {
   "cell_type": "code",
   "execution_count": 23,
   "id": "48956fbe-83cb-4fd0-ba29-74d36144c073",
   "metadata": {},
   "outputs": [
    {
     "data": {
      "text/plain": [
       "0.5498320612649171"
      ]
     },
     "execution_count": 23,
     "metadata": {},
     "output_type": "execute_result"
    }
   ],
   "source": [
    "m=4\n",
    "Y=(4*(u2)**2)**(1/2) / (2 * Hot)**(1/2)\n",
    "Y"
   ]
  },
  {
   "cell_type": "markdown",
   "id": "05e683e6-9ebe-49b4-bb43-9d36ec038fcb",
   "metadata": {},
   "source": [
    "# Печать"
   ]
  },
  {
   "cell_type": "code",
   "execution_count": 24,
   "id": "566fdbab-2233-4a1f-b5d4-b0f5a1284ec6",
   "metadata": {},
   "outputs": [],
   "source": [
    "f = open(\"/home/artem/Dev/LaTeX/Turbothesis/Vars/TURB.tex\", \"w\")\n",
    "f.write(f\"\\\\def \\\\TSigks   {{{round(Sig_ks,3)}}}\\n\")\n",
    "f.write(f\"\\\\def \\\\Tkn      {{{round(kn,3)}}}\\n\")\n",
    "f.write(f\"\\\\def \\\\To      {{{round(T0,3)}}}\\n\")\n",
    "f.write(f\"\\\\def \\\\RNNN     {{{round(RN,3)}}}\\n\")\n",
    "f.write(f\"\\\\def \\\\Cpg      {{{round(Cpg,3)}}}\\n\")\n",
    "f.write(f\"\\\\def \\\\Lacm     {{{round(La_c2m,3)}}}\\n\")\n",
    "f.write(f\"\\\\def \\\\GTN      {{{round(Gv,3)}}}\\n\")\n",
    "f.write('%%%%%%%%%%%%%%%%%%%%%%%%%%%%%%%%%%%%%%%%%%%%%%%%%\\n')\n",
    "f.write(f\"\\\\def \\\\TPo      {{{round(P0,3)}}}\\n\")\n",
    "f.write(f\"\\\\def \\\\TNk      {{{round((Nk/1000000),3)}}}\\n\")\n",
    "f.write(f\"\\\\def \\\\TNt      {{{round((Nt/1000000),3)}}}\\n\")\n",
    "f.write(f\"\\\\def \\\\THut     {{{round((Hut/1000),3)}}}\\n\")\n",
    "f.write(f\"\\\\def \\\\TDTt     {{{round(DTt,3)}}}\\n\")\n",
    "f.write(f\"\\\\def \\\\Ttwot    {{{round(T2t,3)}}}\\n\")\n",
    "f.write(f\"\\\\def \\\\akrtwo   {{{round(akr2,3)}}}\\n\")\n",
    "f.write(f\"\\\\def \\\\ctwom    {{{round(c2m,3)}}}\\n\")\n",
    "f.write(f\"\\\\def \\\\Hadm     {{{round((Hadm/1000),3)}}}\\n\")\n",
    "f.write(f\"\\\\def \\\\Hott     {{{round((Hot/1000),3)}}}\\n\")\n",
    "f.write(f\"\\\\def \\\\Ttwott   {{{round(T2tt,3)}}}\\n\")\n",
    "f.write(f\"\\\\def \\\\Ptwot    {{{round(P2t,3)}}}\\n\")\n",
    "f.write(f\"\\\\def \\\\TtwoT    {{{round(T2T,3)}}}\\n\")\n",
    "f.write(f\"\\\\def \\\\Trhotwot {{{round(rho2t,3)}}}\\n\")\n",
    "f.write(f\"\\\\def \\\\Ftwot    {{{round(F2t,3)}}}\\n\")\n",
    "f.write(f\"\\\\def \\\\Sigp     {{{round(Sig_p,3)}}}\\n\")\n",
    "f.write(f\"\\\\def \\\\SigSoo   {{{round(Sig_500,3)}}}\\n\")\n",
    "f.write(f\"\\\\def \\\\KPR      {{{round(Kpr,3)}}}\\n\")\n",
    "f.write(f\"\\\\def \\\\dtwom    {{{round(d2m,3)}}}\\n\")\n",
    "f.write(f\"\\\\def \\\\Tu       {{{round(u2,3)}}}\\n\")\n",
    "f.write(f\"\\\\def \\\\ltwo     {{{round(l2,3)}}}\\n\")\n",
    "f.write(f\"\\\\def \\\\Totn     {{{round((d2m/l2),3)}}}\\n\")\n",
    "f.write(f\"\\\\def \\\\Y        {{{round(Y,3)}}}\\n\")\n",
    "f.close()"
   ]
  },
  {
   "cell_type": "code",
   "execution_count": null,
   "id": "3c5707dc-397f-4f62-84b9-c60740e6125b",
   "metadata": {},
   "outputs": [],
   "source": []
  }
 ],
 "metadata": {
  "kernelspec": {
   "display_name": "Python 3 (ipykernel)",
   "language": "python",
   "name": "python3"
  },
  "language_info": {
   "codemirror_mode": {
    "name": "ipython",
    "version": 3
   },
   "file_extension": ".py",
   "mimetype": "text/x-python",
   "name": "python",
   "nbconvert_exporter": "python",
   "pygments_lexer": "ipython3",
   "version": "3.13.5"
  }
 },
 "nbformat": 4,
 "nbformat_minor": 5
}
