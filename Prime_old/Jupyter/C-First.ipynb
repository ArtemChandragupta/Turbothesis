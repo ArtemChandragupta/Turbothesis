{
 "cells": [
  {
   "cell_type": "markdown",
   "id": "dd0ac651-0d7b-41d9-ba09-9c6277fffe83",
   "metadata": {},
   "source": [
    "# Переменные"
   ]
  },
  {
   "cell_type": "code",
   "execution_count": 1,
   "id": "577df6f8-6312-4dab-ba5a-713a837ebfa6",
   "metadata": {},
   "outputs": [],
   "source": [
    "n = 5441\n",
    "\n",
    "N     = 65      # Полезная мощность\n",
    "T3   = 1643.15 # Температура газа перед турбиной\n",
    "PN   = 0.1013  # Давление наружного воздуха\n",
    "TN   = 288     # Температура наружного воздуха\n",
    "Pik  = 18      # Целевая степени повышения давления\n",
    "RN   = 0.287   # Газовая постоянная воздуха\n",
    "CPN = 1.03     # Удельная изобарная теплоёмкость воздуха\n",
    "\n",
    "Kg   = 1.33  # Показатель изоэнтропы газа\n",
    "Rg   = 0.287 # \n",
    "CPg = 1.16  # Удельная изобарная теплоёмкость газа\n",
    "\n",
    "SigEN   = 0.987 # Коэффициент потерь на входном устройстве\n",
    "EtaKAD = 0.91  # Политропный КПД компрессора\n",
    "SigBU   = 0.96  # Коэффициент потерь в камере сгорания\n",
    "SigOUT  = 0.985 # Коэффициент потерь давления в выходном устройстве\n",
    "EtaTpol= 0.87  # политропный КПД турбины\n",
    "Etamt   = 0.995 #\n",
    "Etamk   = 0.995 #\n",
    "Etaks   = 0.98  # "
   ]
  },
  {
   "cell_type": "code",
   "execution_count": 2,
   "id": "b2009ac7-ea5a-44d2-909c-34fd146683bf",
   "metadata": {},
   "outputs": [
    {
     "data": {
      "text/plain": [
       "1.386271870794078"
      ]
     },
     "execution_count": 2,
     "metadata": {},
     "output_type": "execute_result"
    }
   ],
   "source": [
    "KN = CPN / (CPN - RN )\n",
    "KN"
   ]
  },
  {
   "cell_type": "markdown",
   "id": "2f6837fe-241e-4c4d-9036-cd58a20a130f",
   "metadata": {},
   "source": [
    "# Вычисления"
   ]
  },
  {
   "cell_type": "code",
   "execution_count": 3,
   "id": "9636ed9d-ab9e-47f5-93cd-adeb403e5ae3",
   "metadata": {},
   "outputs": [
    {
     "data": {
      "text/plain": [
       "0.0999831"
      ]
     },
     "execution_count": 3,
     "metadata": {},
     "output_type": "execute_result"
    }
   ],
   "source": [
    "# 1\n",
    "P1 = SigEN * PN\n",
    "P1"
   ]
  },
  {
   "cell_type": "code",
   "execution_count": 4,
   "id": "da202d09-aa44-4e1a-b6a8-60ef9cc9103f",
   "metadata": {},
   "outputs": [
    {
     "data": {
      "text/plain": [
       "288"
      ]
     },
     "execution_count": 4,
     "metadata": {},
     "output_type": "execute_result"
    }
   ],
   "source": [
    "# 2\n",
    "T1 = TN\n",
    "T1"
   ]
  },
  {
   "cell_type": "code",
   "execution_count": 5,
   "id": "ae563db7-1744-4aa3-a028-b47a458ab0d0",
   "metadata": {},
   "outputs": [
    {
     "data": {
      "text/plain": [
       "1.7996958"
      ]
     },
     "execution_count": 5,
     "metadata": {},
     "output_type": "execute_result"
    }
   ],
   "source": [
    "# 3\n",
    "P2 = Pik * P1\n",
    "P2"
   ]
  },
  {
   "cell_type": "code",
   "execution_count": 6,
   "id": "b9047ed9-cad3-47ea-9ec3-264f94b4858d",
   "metadata": {},
   "outputs": [
    {
     "data": {
      "text/plain": [
       "644.4104782884015"
      ]
     },
     "execution_count": 6,
     "metadata": {},
     "output_type": "execute_result"
    }
   ],
   "source": [
    "# 4\n",
    "T2 = TN * (Pik ** ((KN - 1) / KN))\n",
    "T2"
   ]
  },
  {
   "cell_type": "code",
   "execution_count": 7,
   "id": "8bbc12b8-ec2a-4af2-a85d-f5491e084a86",
   "metadata": {},
   "outputs": [
    {
     "data": {
      "text/plain": [
       "367.10279263705354"
      ]
     },
     "execution_count": 7,
     "metadata": {},
     "output_type": "execute_result"
    }
   ],
   "source": [
    "# 5\n",
    "Hok = CPN * T1 * (Pik ** ((KN - 1) / KN)-1)\n",
    "Hok"
   ]
  },
  {
   "cell_type": "code",
   "execution_count": 8,
   "id": "f471db7f-a70e-40bf-88e0-43a4d670a218",
   "metadata": {},
   "outputs": [
    {
     "data": {
      "text/plain": [
       "403.40966223852035"
      ]
     },
     "execution_count": 8,
     "metadata": {},
     "output_type": "execute_result"
    }
   ],
   "source": [
    "# 6\n",
    "Hk = Hok / EtaKAD\n",
    "Hk"
   ]
  },
  {
   "cell_type": "code",
   "execution_count": 9,
   "id": "d615b39e-6cc0-44e0-bdc1-1359e1d8e0d4",
   "metadata": {},
   "outputs": [
    {
     "data": {
      "text/plain": [
       "1.727707968"
      ]
     },
     "execution_count": 9,
     "metadata": {},
     "output_type": "execute_result"
    }
   ],
   "source": [
    "# 7\n",
    "P3 = P2 * SigBU\n",
    "P3"
   ]
  },
  {
   "cell_type": "code",
   "execution_count": 10,
   "id": "90af40fa-bfdf-4df6-842e-89efec2a5659",
   "metadata": {},
   "outputs": [
    {
     "data": {
      "text/plain": [
       "0.10284263959390863"
      ]
     },
     "execution_count": 10,
     "metadata": {},
     "output_type": "execute_result"
    }
   ],
   "source": [
    "# 8\n",
    "P4 = PN / SigOUT\n",
    "P4"
   ]
  },
  {
   "cell_type": "code",
   "execution_count": 11,
   "id": "4cf7954a-c414-4526-802e-b37926b44d5f",
   "metadata": {},
   "outputs": [
    {
     "data": {
      "text/plain": [
       "16.7995296"
      ]
     },
     "execution_count": 11,
     "metadata": {},
     "output_type": "execute_result"
    }
   ],
   "source": [
    "# 9\n",
    "PiT = P3 / P4\n",
    "PiT"
   ]
  },
  {
   "cell_type": "code",
   "execution_count": 12,
   "id": "9adf49c6-aba3-4e74-bbe7-8125a6a602b0",
   "metadata": {},
   "outputs": [
    {
     "data": {
      "text/plain": [
       "959.568183780463"
      ]
     },
     "execution_count": 12,
     "metadata": {},
     "output_type": "execute_result"
    }
   ],
   "source": [
    "# 10\n",
    "Hot = CPg * T3 * (1 - PiT ** ((-Kg + 1) / Kg ))\n",
    "Hot"
   ]
  },
  {
   "cell_type": "code",
   "execution_count": 13,
   "id": "8eedb65b-5b6e-4170-8c24-5355b8957c09",
   "metadata": {},
   "outputs": [
    {
     "data": {
      "text/plain": [
       "834.8243198890028"
      ]
     },
     "execution_count": 13,
     "metadata": {},
     "output_type": "execute_result"
    }
   ],
   "source": [
    "# 11\n",
    "Ht = Hot * EtaTpol\n",
    "Ht"
   ]
  },
  {
   "cell_type": "code",
   "execution_count": 14,
   "id": "e50782a5-f1b8-436e-afbd-4752d651007e",
   "metadata": {},
   "outputs": [
    {
     "data": {
      "text/plain": [
       "815.9360484651181"
      ]
     },
     "execution_count": 14,
     "metadata": {},
     "output_type": "execute_result"
    }
   ],
   "source": [
    "# 12\n",
    "T4 = T3 * PiT ** (-(Kg-1) / Kg)\n",
    "T4"
   ]
  },
  {
   "cell_type": "code",
   "execution_count": 15,
   "id": "695260db-aa7b-44f1-a2c1-888b3096bdf3",
   "metadata": {},
   "outputs": [
    {
     "data": {
      "text/plain": [
       "152.8644378686324"
      ]
     },
     "execution_count": 15,
     "metadata": {},
     "output_type": "execute_result"
    }
   ],
   "source": [
    "# 13\n",
    "GN = N * 1000 / (Ht * Etamt - Hk / Etamk)\n",
    "GN"
   ]
  },
  {
   "cell_type": "code",
   "execution_count": 16,
   "id": "13541634-d0dd-4157-8a4c-c671582d2d19",
   "metadata": {},
   "outputs": [
    {
     "data": {
      "text/plain": [
       "1158.5378451854542"
      ]
     },
     "execution_count": 16,
     "metadata": {},
     "output_type": "execute_result"
    }
   ],
   "source": [
    "# 14\n",
    "Q11 = CPg * (T3 - T2)\n",
    "Q11"
   ]
  },
  {
   "cell_type": "code",
   "execution_count": 17,
   "id": "158b15e8-0210-4d97-9eb6-947cddd68631",
   "metadata": {},
   "outputs": [
    {
     "data": {
      "text/plain": [
       "1182.1814746790349"
      ]
     },
     "execution_count": 17,
     "metadata": {},
     "output_type": "execute_result"
    }
   ],
   "source": [
    "# 15\n",
    "Q1 = Q11 / Etaks\n",
    "Q1"
   ]
  },
  {
   "cell_type": "code",
   "execution_count": 18,
   "id": "9b4d35fb-3c05-49d4-a844-3d18fe682120",
   "metadata": {},
   "outputs": [
    {
     "data": {
      "text/plain": [
       "0.3631063365112996"
      ]
     },
     "execution_count": 18,
     "metadata": {},
     "output_type": "execute_result"
    }
   ],
   "source": [
    "# 16\n",
    "Etae = (Ht * Etamt - Hk * Etamk) / Q1\n",
    "Etae"
   ]
  },
  {
   "cell_type": "code",
   "execution_count": 19,
   "id": "da17a093-fa17-4278-a3f8-d0b567dcd5bf",
   "metadata": {},
   "outputs": [
    {
     "data": {
      "text/plain": [
       "0.5119042320031533"
      ]
     },
     "execution_count": 19,
     "metadata": {},
     "output_type": "execute_result"
    }
   ],
   "source": [
    "# 17\n",
    "phi = (Ht * Etamt - Hk / Etamk) / (Ht * Etamt)\n",
    "phi"
   ]
  },
  {
   "cell_type": "markdown",
   "id": "c1667695-c302-4efb-af35-3aeb5f059051",
   "metadata": {},
   "source": [
    "# Рассчёт с охладителем"
   ]
  },
  {
   "cell_type": "code",
   "execution_count": 20,
   "id": "1619e86d-250f-444a-806b-7887c37e3a4a",
   "metadata": {},
   "outputs": [
    {
     "data": {
      "text/plain": [
       "19.062339656559733"
      ]
     },
     "execution_count": 20,
     "metadata": {},
     "output_type": "execute_result"
    }
   ],
   "source": [
    "Qnp   = 44300\n",
    "htop  = 0\n",
    "Lo    = 15\n",
    "Tzero = 273.15\n",
    "Cpao  = 1.2\n",
    "tt2   = T2-Tzero\n",
    "tt3   = T3-Tzero\n",
    "gv    = (Qnp*Etaks + htop + Lo*CPN*tt2-(Lo+1)*Cpao*tt3)/(Cpao*(tt3-tt2))\n",
    "gv"
   ]
  },
  {
   "cell_type": "code",
   "execution_count": 21,
   "id": "42fb7e2f-b540-47b2-8d74-16546a2afc61",
   "metadata": {},
   "outputs": [
    {
     "data": {
      "text/plain": [
       "2.2708226437706487"
      ]
     },
     "execution_count": 21,
     "metadata": {},
     "output_type": "execute_result"
    }
   ],
   "source": [
    "aaa = (Lo+gv)/Lo\n",
    "aaa"
   ]
  },
  {
   "cell_type": "code",
   "execution_count": 22,
   "id": "77bff112-eac5-495e-910f-9bf6c41e5c7b",
   "metadata": {},
   "outputs": [
    {
     "data": {
      "text/plain": [
       "0.02935793636264266"
      ]
     },
     "execution_count": 22,
     "metadata": {},
     "output_type": "execute_result"
    }
   ],
   "source": [
    "gt = 1/(aaa*Lo)\n",
    "gt"
   ]
  },
  {
   "cell_type": "code",
   "execution_count": 23,
   "id": "50d06d95-ea54-4124-9c83-3d4876af360a",
   "metadata": {},
   "outputs": [
    {
     "data": {
      "text/plain": [
       "0.023578750000000002"
      ]
     },
     "execution_count": 23,
     "metadata": {},
     "output_type": "execute_result"
    }
   ],
   "source": [
    "Tst = 1100\n",
    "gcohl = 0.01 + 0.25/10000 * (T3-Tst)\n",
    "gcohl"
   ]
  },
  {
   "cell_type": "code",
   "execution_count": 24,
   "id": "ef29d3d7-5b50-47e9-bc84-fc7cc1b6abe3",
   "metadata": {},
   "outputs": [
    {
     "data": {
      "text/plain": [
       "0.0919493"
      ]
     },
     "execution_count": 24,
     "metadata": {},
     "output_type": "execute_result"
    }
   ],
   "source": [
    "gpohl = 0.08 + 0.22/10000 * (T3-Tst)\n",
    "gpohl"
   ]
  },
  {
   "cell_type": "code",
   "execution_count": 25,
   "id": "20db857e-ff75-4b1a-b916-01b3a7c4798d",
   "metadata": {},
   "outputs": [
    {
     "data": {
      "text/plain": [
       "0.1328572575"
      ]
     },
     "execution_count": 25,
     "metadata": {},
     "output_type": "execute_result"
    }
   ],
   "source": [
    "SigUT = 1.15\n",
    "gohl  = SigUT * (gcohl+gpohl)\n",
    "gohl"
   ]
  },
  {
   "cell_type": "code",
   "execution_count": 26,
   "id": "55a38ac9-9838-4a7d-aa1a-c5372ea750a0",
   "metadata": {},
   "outputs": [
    {
     "data": {
      "text/plain": [
       "0.12030503574340935"
      ]
     },
     "execution_count": 26,
     "metadata": {},
     "output_type": "execute_result"
    }
   ],
   "source": [
    "gohll = ( (1+gt)*gohl )/( 1+(1+gt)*gohl )\n",
    "gohll"
   ]
  },
  {
   "cell_type": "code",
   "execution_count": 27,
   "id": "7ea87433-bb1d-4369-ad0f-6e18c78cd8b2",
   "metadata": {},
   "outputs": [
    {
     "data": {
      "text/plain": [
       "3.9478813717088093"
      ]
     },
     "execution_count": 27,
     "metadata": {},
     "output_type": "execute_result"
    }
   ],
   "source": [
    "Gt = gt * (1-gohll) * GN\n",
    "Gt"
   ]
  },
  {
   "cell_type": "code",
   "execution_count": 36,
   "id": "0d4d191a-b94f-478e-94c6-1738c07212ab",
   "metadata": {},
   "outputs": [
    {
     "data": {
      "text/plain": [
       "37155.08071275558"
      ]
     },
     "execution_count": 36,
     "metadata": {},
     "output_type": "execute_result"
    }
   ],
   "source": [
    "Omeras = Hot * GN / Gt #/ 10000\n",
    "Omeras"
   ]
  },
  {
   "cell_type": "code",
   "execution_count": 37,
   "id": "2bc48f7d-46e2-4603-ad8c-480a56dbd427",
   "metadata": {},
   "outputs": [
    {
     "data": {
      "text/plain": [
       "350.7785784931943"
      ]
     },
     "execution_count": 37,
     "metadata": {},
     "output_type": "execute_result"
    }
   ],
   "source": [
    "He = (1+gt)*(1-gohll)*Ht*Etamt - Hk*Etamk\n",
    "He"
   ]
  },
  {
   "cell_type": "code",
   "execution_count": 38,
   "id": "04fc6d2b-056b-4757-b509-7f0c69ac460c",
   "metadata": {},
   "outputs": [
    {
     "data": {
      "text/plain": [
       "13582.366127306002"
      ]
     },
     "execution_count": 38,
     "metadata": {},
     "output_type": "execute_result"
    }
   ],
   "source": [
    "Omepol = He * GN / Gt #/ 10**6\n",
    "Omepol"
   ]
  },
  {
   "cell_type": "markdown",
   "id": "d7794c7a-893d-46fb-9304-c26bf077f2ff",
   "metadata": {},
   "source": [
    "# Печать"
   ]
  },
  {
   "cell_type": "code",
   "execution_count": 39,
   "id": "9ebd8d92-f863-4d74-9b61-5048b3d5d9ab",
   "metadata": {},
   "outputs": [],
   "source": [
    "f = open(\"/home/artem/Dev/LaTeX/Turbothesis/Vars/FIRST.tex\", \"w\")\n",
    "f.write(f\"\\\\def \\\\N    {{{round(N,3)}}}\\n\")\n",
    "f.write(f\"\\\\def \\\\Ttri {{{round(T3,3)}}}\\n\")\n",
    "f.write(f\"\\\\def \\\\PN   {{{round(PN,4)}}}\\n\")\n",
    "f.write(f\"\\\\def \\\\TN   {{{round(TN,3)}}}\\n\")\n",
    "f.write(f\"\\\\def \\\\Pik  {{{round(Pik,3)}}}\\n\")\n",
    "f.write(f\"\\\\def \\\\RN   {{{round(RN,3)}}}\\n\")\n",
    "f.write(f\"\\\\def \\\\CPN  {{{round(CPN,3)}}}\\n\")\n",
    "\n",
    "f.write(f\"\\\\def \\\\Kg   {{{round(Kg,3)}}}\\n\")\n",
    "f.write(f\"\\\\def \\\\Gg   {{{round(Rg,3)}}}\\n\")\n",
    "f.write(f\"\\\\def \\\\CPg  {{{round(CPg,3)}}}\\n\")\n",
    "\n",
    "f.write(f\"\\\\def \\\\SigEN   {{{round(SigEN,3)}}}\\n\")\n",
    "f.write(f\"\\\\def \\\\EtaKAD  {{{round(EtaKAD,3)}}}\\n\")\n",
    "f.write(f\"\\\\def \\\\SigBU   {{{round(SigBU,3)}}}\\n\")\n",
    "f.write(f\"\\\\def \\\\SigOUT  {{{round(SigOUT,3)}}}\\n\")\n",
    "f.write(f\"\\\\def \\\\EtaTpol {{{round(EtaTpol,3)}}}\\n\")\n",
    "f.write(f\"\\\\def \\\\Etamt   {{{round(Etamt,3)}}}\\n\")\n",
    "f.write(f\"\\\\def \\\\Etamk   {{{round(Etamk,3)}}}\\n\")\n",
    "f.write(f\"\\\\def \\\\Etaks   {{{round(Etaks,3)}}}\\n\")\n",
    "\n",
    "f.write(f\"\\\\def \\\\KN      {{{round(KN,3)}}}\\n\")\n",
    "f.write(\"%%%%%%%%%%%%%%%%%%%%%%%%%%%%%%%%%%%%%%%%%%%%%%%%%%%%%%%%%%%%%%%%%%%%%\\n\")\n",
    "\n",
    "f.write(f\"\\\\def \\\\Podi {{{round(P1,3)}}}\\n\")\n",
    "f.write(f\"\\\\def \\\\Todi {{{round(T1,3)}}}\\n\")\n",
    "f.write(f\"\\\\def \\\\Pdwa {{{round(P2,3)}}}\\n\")\n",
    "f.write(f\"\\\\def \\\\Tdwa {{{round(T2,3)}}}\\n\")\n",
    "f.write(f\"\\\\def \\\\Hok  {{{round(Hok,3)}}}\\n\")\n",
    "f.write(f\"\\\\def \\\\Hk   {{{round(Hk,3)}}}\\n\")\n",
    "f.write(f\"\\\\def \\\\Ptri {{{round(P3,3)}}}\\n\")\n",
    "f.write(f\"\\\\def \\\\Pche {{{round(P4,3)}}}\\n\")\n",
    "f.write(f\"\\\\def \\\\PiT  {{{round(PiT,3)}}}\\n\")\n",
    "f.write(f\"\\\\def \\\\Hot  {{{round(Hot,3)}}}\\n\")\n",
    "f.write(f\"\\\\def \\\\Ht   {{{round(Ht,3)}}}\\n\")\n",
    "f.write(f\"\\\\def \\\\Tche {{{round(T4,3)}}}\\n\")\n",
    "f.write(f\"\\\\def \\\\GN   {{{round(GN,3)}}}\\n\")\n",
    "f.write(f\"\\\\def \\\\Qii  {{{round(Q11,3)}}}\\n\")\n",
    "f.write(f\"\\\\def \\\\Qodi {{{round(Q1,3)}}}\\n\")\n",
    "f.write(f\"\\\\def \\\\Etae {{{round(Etae,3)}}}\\n\")\n",
    "f.write(f\"\\\\def \\\\phi  {{{round(phi,3)}}}\\n\")\n",
    "f.write(\"%%%%%%%%%%%%%%%%%%%%%%%%%%%%%%%%%%%%%%%%%%%%%%%%%%%%%%%%%%%%%%%%%%%%%\\n\")\n",
    "f.write(f\"\\\\def \\\\Qnp   {{{round(Qnp,3)}}}\\n\")\n",
    "f.write(f\"\\\\def \\\\htop  {{{round(htop,3)}}}\\n\")\n",
    "f.write(f\"\\\\def \\\\Lo    {{{round(Lo,3)}}}\\n\")\n",
    "f.write(f\"\\\\def \\\\Tzero {{{round(Tzero,3)}}}\\n\")\n",
    "f.write(f\"\\\\def \\\\Cpao  {{{round(Cpao,3)}}}\\n\")\n",
    "f.write(f\"\\\\def \\\\gv    {{{round(gv,3)}}}\\n\")\n",
    "f.write(f\"\\\\def \\\\aaa   {{{round(aaa,3)}}}\\n\")\n",
    "f.write(f\"\\\\def \\\\gt    {{{round(gt,3)}}}\\n\")\n",
    "f.write(f\"\\\\def \\\\Tst   {{{round(Tst,3)}}}\\n\")\n",
    "f.write(f\"\\\\def \\\\gpohl {{{round(gpohl,3)}}}\\n\")\n",
    "f.write(f\"\\\\def \\\\SigUT {{{round(SigUT,3)}}}\\n\")\n",
    "f.write(f\"\\\\def \\\\gcohl {{{round(gcohl,3)}}}\\n\")\n",
    "f.write(f\"\\\\def \\\\gohl  {{{round(gohl,3)}}}\\n\")\n",
    "f.write(f\"\\\\def \\\\gohll {{{round(gohll,3)}}}\\n\")\n",
    "f.write(f\"\\\\def \\\\Gt    {{{round(Gt,3)}}}\\n\")\n",
    "f.write(f\"\\\\def \\\\Omeras{{{round(Omeras,3)}}}\\n\")\n",
    "f.write(f\"\\\\def \\\\He    {{{round(He,3)}}}\\n\")\n",
    "f.write(f\"\\\\def \\\\Omepol{{{round(Omepol,3)}}}\\n\")\n",
    "f.write(f\"\\\\def \\\\ttdwa    {{{round(tt2,3)}}}\\n\")\n",
    "f.write(f\"\\\\def \\\\tttri    {{{round(tt3,3)}}}\\n\")\n",
    "\n",
    "\n",
    "f.close()"
   ]
  },
  {
   "cell_type": "code",
   "execution_count": null,
   "id": "41989654-0e09-4596-adf0-268d3bb70f63",
   "metadata": {},
   "outputs": [],
   "source": []
  }
 ],
 "metadata": {
  "kernelspec": {
   "display_name": "Python 3 (ipykernel)",
   "language": "python",
   "name": "python3"
  },
  "language_info": {
   "codemirror_mode": {
    "name": "ipython",
    "version": 3
   },
   "file_extension": ".py",
   "mimetype": "text/x-python",
   "name": "python",
   "nbconvert_exporter": "python",
   "pygments_lexer": "ipython3",
   "version": "3.12.10"
  }
 },
 "nbformat": 4,
 "nbformat_minor": 5
}
